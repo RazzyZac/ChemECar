{
 "cells": [
  {
   "cell_type": "markdown",
   "metadata": {},
   "source": [
    "# Bayesian Optimization with Ax"
   ]
  },
  {
   "cell_type": "markdown",
   "metadata": {},
   "source": [
    "### Setup\n",
    "\n",
    "#### Import Libraries\n",
    "\n",
    "This script uses the Ax Bayesian Optimization model to try to find the best parameters for optimizing a battery for the University of Utah Chemical Engineering Car Club. There is a 2D example of this script in the AxDemonstration notebook. "
   ]
  },
  {
   "cell_type": "code",
   "execution_count": 26,
   "metadata": {},
   "outputs": [],
   "source": [
    "from ax.service.ax_client import AxClient\n",
    "import pandas as pd\n",
    "from ax.service.utils.instantiation import ObjectiveProperties\n",
    "from IPython.display import clear_output"
   ]
  },
  {
   "cell_type": "markdown",
   "metadata": {},
   "source": [
    "### Train the Model \n",
    "\n",
    "Using the collected data, train the Ax model and use it to suggest a new set of parameters to test. \n",
    "\n",
    "The output of this code will be a set of the parameters that you need to test next."
   ]
  },
  {
   "cell_type": "code",
   "execution_count": 27,
   "metadata": {},
   "outputs": [
    {
     "name": "stdout",
     "output_type": "stream",
     "text": [
      "Next set of parameters to try:\n",
      "Size of the Cell: 7.819\n",
      "Magnesium Dioxide wt%: 1.4%\n",
      "Graphite wt%: 98.6%\n",
      "Layers of Filter Paper: 1\n",
      "3M Ammonium Chloride (mL): 7.047\n"
     ]
    }
   ],
   "source": [
    "# Read the CSV file\n",
    "df = pd.read_csv('train_XY.csv')\n",
    "\n",
    "ax_client = AxClient(verbose_logging=False)\n",
    "\n",
    "# Define the parameters based on your CSV columns\n",
    "parameters = [\n",
    "    {\"name\": \"SizeOfCell\", \"type\": \"range\", \"bounds\": [-10.0, 10.0]},\n",
    "    {\"name\": \"Magnesium\", \"type\": \"range\", \"bounds\": [0.0, 1.0]},\n",
    "    {\"name\": \"LayersOfPaper\", \"type\": \"choice\", \"values\": [1, 2]},\n",
    "    {\"name\": \"Chloride\", \"type\": \"range\", \"bounds\": [0.0, 10.0]}\n",
    "]\n",
    "\n",
    "# Create the experiment\n",
    "ax_client.create_experiment(\n",
    "    name=\"battery_optimization\",\n",
    "    parameters=parameters,\n",
    "    objectives={\"y\": ObjectiveProperties(minimize=False)}\n",
    ")\n",
    "\n",
    "# Attach existing trials from the CSV\n",
    "for i, row in df.iterrows():\n",
    "    parameters = {\"SizeOfCell\": row[\"Size of the Cell\"], \"Magnesium\": row[\"Magnesium Dioxide wt%\"], \"LayersOfPaper\": int(row[\"Layers of Filter Paper\"]), \"Chloride\": row[\"3M Ammonium Chloride (mL)\"]}\n",
    "    objective_value = row['y']\n",
    "    ax_client.attach_trial(parameters)\n",
    "    ax_client.complete_trial(trial_index=i, raw_data={\"y\": objective_value})\n",
    "\n",
    "# Get next set of parameters to try\n",
    "parameters, trial_index = ax_client.get_next_trial()\n",
    "\n",
    "# Compute x3 based on the generated x2\n",
    "parameters[\"Graphite\"] = 1 - parameters[\"Magnesium\"]\n",
    "\n",
    "clear_output(wait=True)\n",
    "\n",
    "# Print the next set of parameters to try, mulitply the wt% ones by 100 to get the percentage\n",
    "print(\"Next set of parameters to try:\")\n",
    "print(f\"Size of the Cell: {parameters['SizeOfCell']:.3f}\")\n",
    "print(f\"Magnesium Dioxide wt%: {parameters['Magnesium']*100:.1f}%\")\n",
    "print(f\"Graphite wt%: {parameters['Graphite']*100:.1f}%\")\n",
    "print(f\"Layers of Filter Paper: {parameters['LayersOfPaper']}\")\n",
    "print(f\"3M Ammonium Chloride (mL): {parameters['Chloride']:.3f}\")"
   ]
  },
  {
   "cell_type": "markdown",
   "metadata": {},
   "source": [
    "### Log the Data\n",
    "\n",
    "Run the code below to get the input prompt to log the data. This number is the average voltage recorded from the battery using the suggested parameters. "
   ]
  },
  {
   "cell_type": "code",
   "execution_count": 28,
   "metadata": {},
   "outputs": [],
   "source": [
    "# Here you would typically run your experiment with these parameters\n",
    "# and get a result. For this example, let's just use a dummy result\n",
    "result = float(input(\"Input the tested variable\"))  # Replace this with your actual experimental result\n",
    "\n",
    "# Complete the trial with the result\n",
    "ax_client.complete_trial(trial_index=trial_index, raw_data={\"y\": result})"
   ]
  },
  {
   "cell_type": "markdown",
   "metadata": {},
   "source": [
    "### Save the Data\n",
    "\n",
    "Run the cell below to save the new parameters and observed value to the csv file. This will allow the model to incorperate the new data into its future fittings."
   ]
  },
  {
   "cell_type": "code",
   "execution_count": 29,
   "metadata": {},
   "outputs": [],
   "source": [
    "# round parameters to 3 decimal places\n",
    "parameters = {key: round(value, 3) for key, value in parameters.items()}\n",
    "\n",
    "# Prepare the new row as a DataFrame\n",
    "new_row = pd.DataFrame([{\n",
    "    \"Size of the Cell\": parameters['SizeOfCell'],\n",
    "    \"Magnesium Dioxide wt%\": parameters['Magnesium'],\n",
    "    \"Graphite wt%\": parameters['Graphite'],\n",
    "    \"Layers of Filter Paper\": parameters['LayersOfPaper'],\n",
    "    \"3M Ammonium Chloride (mL)\": parameters['Chloride'],\n",
    "    \"y\": result\n",
    "}])\n",
    "\n",
    "# Concatenate the new row to the existing DataFrame\n",
    "df = pd.concat([df, new_row], ignore_index=True)\n",
    "\n",
    "# Save the updated dataframe to a CSV file\n",
    "df.to_csv('train_XY.csv', index=False)"
   ]
  },
  {
   "cell_type": "markdown",
   "metadata": {},
   "source": [
    "### Print the top parameters found so far"
   ]
  },
  {
   "cell_type": "code",
   "execution_count": 30,
   "metadata": {},
   "outputs": [
    {
     "name": "stdout",
     "output_type": "stream",
     "text": [
      "\n",
      "Best parameters:\n",
      "SizeOfCell: 1.607\n",
      "Magnesium: 0.281\n",
      "LayersOfPaper: 2\n",
      "Chloride: 8.000\n",
      "\n",
      "Best target value:\n",
      "380.0\n"
     ]
    }
   ],
   "source": [
    "# Get the best parameters\n",
    "best_parameters, metrics = ax_client.get_best_parameters()\n",
    "\n",
    "# Print the best parameters to 3 decimal places\n",
    "print(\"\\nBest parameters:\")\n",
    "for key, value in best_parameters.items():\n",
    "    if isinstance(value, float):\n",
    "        print(f\"{key}: {value:.3f}\")\n",
    "    else:\n",
    "        print(f\"{key}: {value}\")\n",
    "\n",
    "print(\"\\nBest target value:\")\n",
    "print(metrics[0]['y'])"
   ]
  }
 ],
 "metadata": {
  "kernelspec": {
   "display_name": "chemcar",
   "language": "python",
   "name": "python3"
  },
  "language_info": {
   "codemirror_mode": {
    "name": "ipython",
    "version": 3
   },
   "file_extension": ".py",
   "mimetype": "text/x-python",
   "name": "python",
   "nbconvert_exporter": "python",
   "pygments_lexer": "ipython3",
   "version": "3.11.9"
  }
 },
 "nbformat": 4,
 "nbformat_minor": 2
}
