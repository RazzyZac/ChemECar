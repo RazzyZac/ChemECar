{
 "cells": [
  {
   "cell_type": "markdown",
   "metadata": {},
   "source": [
    "# Import libraries and set seeds"
   ]
  },
  {
   "cell_type": "code",
   "execution_count": 37,
   "metadata": {},
   "outputs": [],
   "source": [
    "import torch\n",
    "from botorch.models import SingleTaskGP\n",
    "from botorch.fit import fit_gpytorch_mll\n",
    "from botorch.optim import optimize_acqf\n",
    "from gpytorch.mlls import ExactMarginalLogLikelihood\n",
    "from botorch.acquisition import LogExpectedImprovement\n",
    "from botorch.utils.transforms import standardize\n",
    "import numpy as np\n",
    "\n",
    "def set_seeds(seed):\n",
    "    np.random.seed(seed)\n",
    "    torch.manual_seed(seed)\n",
    "\n",
    "set_seeds(42)"
   ]
  },
  {
   "cell_type": "markdown",
   "metadata": {},
   "source": [
    "# Load the data"
   ]
  },
  {
   "cell_type": "code",
   "execution_count": 45,
   "metadata": {},
   "outputs": [
    {
     "name": "stdout",
     "output_type": "stream",
     "text": [
      "torch.Size([4, 4])\n",
      "torch.Size([4])\n",
      "type of train_X: <class 'torch.Tensor'>\n",
      "type of train_Y: <class 'torch.Tensor'>\n",
      "tensor([[-1.0000e+00, -1.0000e+00, -1.0000e+00, -1.0000e+00],\n",
      "        [-2.7756e-16,  0.0000e+00,  5.5511e-16,  0.0000e+00],\n",
      "        [ 1.0000e+00,  1.0000e+00,  1.0000e+00,  1.0000e+00],\n",
      "        [ 9.9806e-01,  7.6469e-01,  9.5246e-01,  8.4701e-01]])\n",
      "tensor([-1.0000,  0.0000,  1.0000,  0.9900])\n"
     ]
    }
   ],
   "source": [
    "set_seeds(42)\n",
    "\n",
    "# read the data from train_XY.csv and convert to a tensor\n",
    "train_XY = np.loadtxt('train_XY.csv', delimiter=',')\n",
    "train_X = torch.tensor(train_XY[:, :-1], dtype=torch.float)\n",
    "train_Y = torch.tensor(train_XY[:, -1], dtype=torch.float)\n",
    "\n",
    "print(train_X.shape)\n",
    "print(train_Y.shape)\n",
    "\n",
    "print(f\"type of train_X: {type(train_X)}\")\n",
    "print(f\"type of train_Y: {type(train_Y)}\")\n",
    "\n",
    "print(train_X)\n",
    "print(train_Y)"
   ]
  },
  {
   "cell_type": "markdown",
   "metadata": {},
   "source": [
    "# Train the model"
   ]
  },
  {
   "cell_type": "code",
   "execution_count": 39,
   "metadata": {},
   "outputs": [
    {
     "name": "stdout",
     "output_type": "stream",
     "text": [
      "Next point to sample:  tensor([[0.9981, 0.7647, 0.9525, 0.8470]])\n"
     ]
    },
    {
     "name": "stderr",
     "output_type": "stream",
     "text": [
      "/opt/miniconda3/envs/chemcar/lib/python3.11/site-packages/botorch/models/utils/assorted.py:257: InputDataWarning: Input data is not contained to the unit cube. Please consider min-max scaling the input data.\n",
      "  check_min_max_scaling(\n"
     ]
    }
   ],
   "source": [
    "set_seeds(42)\n",
    "\n",
    "# Standardize X and Y\n",
    "train_X = standardize(train_X)\n",
    "train_Y = standardize(train_Y)\n",
    "\n",
    "# Define the GP model\n",
    "gp = SingleTaskGP(train_X, train_Y)\n",
    "mll = ExactMarginalLogLikelihood(gp.likelihood, gp)\n",
    "\n",
    "# Fit the model\n",
    "fit_gpytorch_mll(mll)\n",
    "\n",
    "# define the acquisition function use Expected Improvement\n",
    "EI = LogExpectedImprovement(gp, best_f=train_Y.max())\n",
    "\n",
    "# Define the bounds for the variables\n",
    "bounds = torch.tensor([\n",
    "    [0.0, 0.0, 0.0, 0.0],  # Lower bounds for X1, X2, X3, X4\n",
    "    [1.0, 1.0, 1.0, 1.0],  # Upper bounds for X1, X2, X3, X4\n",
    "])\n",
    "\n",
    "# Optimize the acquisition function\n",
    "candidate, acq_value = optimize_acqf(\n",
    "    acq_function=EI,\n",
    "    bounds=bounds,\n",
    "    q=1,  # Number of candidates to sample\n",
    "    num_restarts=5,\n",
    "    raw_samples=20,\n",
    ")\n",
    "\n",
    "# Print the next point to sample\n",
    "print(\"Next point to sample: \", candidate)"
   ]
  },
  {
   "cell_type": "markdown",
   "metadata": {},
   "source": [
    "# Add new points to the dataset"
   ]
  },
  {
   "cell_type": "code",
   "execution_count": 40,
   "metadata": {},
   "outputs": [
    {
     "name": "stdout",
     "output_type": "stream",
     "text": [
      "Shape of train_X: torch.Size([4, 4])\n",
      "type of train_X: torch.float64\n",
      "Shape of train_Y: torch.Size([4, 1])\n",
      "type of train_Y: torch.float64\n"
     ]
    }
   ],
   "source": [
    "# add the points from the candidate to the training data as double \n",
    "train_X = torch.cat([train_X, candidate], dim=0)\n",
    "\n",
    "Y = 0.99\n",
    "\n",
    "train_Y = torch.cat([train_Y, torch.tensor([[Y]], dtype=torch.float64)], dim=0)"
   ]
  },
  {
   "cell_type": "markdown",
   "metadata": {},
   "source": [
    "# Save the updated data to a csv file"
   ]
  },
  {
   "cell_type": "code",
   "execution_count": 42,
   "metadata": {},
   "outputs": [],
   "source": [
    "# combine the train_X and train_Y to a single tensor\n",
    "train_XY = torch.cat([train_X, train_Y], dim=1)\n",
    "\n",
    "# save the train_XY to a csv file \n",
    "np.savetxt(\"train_XY.csv\", train_XY.numpy(), delimiter=\",\")"
   ]
  }
 ],
 "metadata": {
  "kernelspec": {
   "display_name": "chemcar",
   "language": "python",
   "name": "python3"
  },
  "language_info": {
   "codemirror_mode": {
    "name": "ipython",
    "version": 3
   },
   "file_extension": ".py",
   "mimetype": "text/x-python",
   "name": "python",
   "nbconvert_exporter": "python",
   "pygments_lexer": "ipython3",
   "version": "3.11.9"
  }
 },
 "nbformat": 4,
 "nbformat_minor": 2
}
