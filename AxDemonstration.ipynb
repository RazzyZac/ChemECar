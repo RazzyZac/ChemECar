{
 "cells": [
  {
   "cell_type": "code",
   "execution_count": 2,
   "metadata": {},
   "outputs": [
    {
     "data": {
      "image/png": "[encoded data removed]",
      "text/plain": [
       "<Figure size 640x480 with 1 Axes>"
      ]
     },
     "metadata": {},
     "output_type": "display_data"
    },
    {
     "name": "stderr",
     "output_type": "stream",
     "text": [
      "[INFO 08-20 20:29:30] ax.service.ax_client: Starting optimization with verbose logging. To disable logging, set the `verbose_logging` argument to `False`. Note that float values in the logs are rounded to 6 decimal points.\n",
      "[WARNING 08-20 20:29:30] ax.service.ax_client: Random seed set to 0. Note that this setting only affects the Sobol quasi-random generator and BoTorch-powered Bayesian optimization models. For the latter models, setting random seed to the same number for two optimizations will make the generated trials similar, but not exactly the same, and over time the trials will diverge more.\n",
      "[INFO 08-20 20:29:30] ax.service.utils.instantiation: Inferred value type of ParameterType.FLOAT for parameter x. If that is not the expected value type, you can explicitly specify 'value_type' ('int', 'float', 'bool' or 'str') in parameter dict.\n",
      "[INFO 08-20 20:29:30] ax.service.utils.instantiation: Created search space: SearchSpace(parameters=[RangeParameter(name='x', parameter_type=FLOAT, range=[0.0, 10.0])], parameter_constraints=[]).\n",
      "[INFO 08-20 20:29:30] ax.modelbridge.dispatch_utils: Using Models.BOTORCH_MODULAR since there is at least one ordered parameter and there are no unordered categorical parameters.\n",
      "[INFO 08-20 20:29:30] ax.modelbridge.dispatch_utils: Calculating the number of remaining initialization trials based on num_initialization_trials=None max_initialization_trials=None num_tunable_parameters=1 num_trials=None use_batch_trials=False\n",
      "[INFO 08-20 20:29:30] ax.modelbridge.dispatch_utils: calculated num_initialization_trials=5\n",
      "[INFO 08-20 20:29:30] ax.modelbridge.dispatch_utils: num_completed_initialization_trials=0 num_remaining_initialization_trials=5\n",
      "[INFO 08-20 20:29:30] ax.modelbridge.dispatch_utils: `verbose`, `disable_progbar`, and `jit_compile` are not yet supported when using `choose_generation_strategy` with ModularBoTorchModel, dropping these arguments.\n",
      "[INFO 08-20 20:29:30] ax.modelbridge.dispatch_utils: Using Bayesian Optimization generation strategy: GenerationStrategy(name='Sobol+BoTorch', steps=[Sobol for 5 trials, BoTorch for subsequent trials]). Iterations after 5 will take longer to generate due to model-fitting.\n",
      "[INFO 08-20 20:29:30] ax.core.experiment: Attached custom parameterizations [{'x': 4.42953}] as trial 0.\n",
      "[INFO 08-20 20:29:30] ax.service.ax_client: Completed trial 0 with data: {'y': (-1.123281, None)}.\n",
      "[INFO 08-20 20:29:30] ax.core.experiment: Attached custom parameterizations [{'x': 4.899329}] as trial 1.\n",
      "[INFO 08-20 20:29:30] ax.service.ax_client: Completed trial 1 with data: {'y': (-1.10606, None)}.\n",
      "[INFO 08-20 20:29:30] ax.core.experiment: Attached custom parameterizations [{'x': 4.563758}] as trial 2.\n",
      "[INFO 08-20 20:29:30] ax.service.ax_client: Completed trial 2 with data: {'y': (-1.079705, None)}.\n",
      "[INFO 08-20 20:29:30] ax.core.experiment: Attached custom parameterizations [{'x': 4.228188}] as trial 3.\n",
      "[INFO 08-20 20:29:30] ax.service.ax_client: Completed trial 3 with data: {'y': (-1.057675, None)}.\n",
      "[INFO 08-20 20:29:30] ax.core.experiment: Attached custom parameterizations [{'x': 5.033557}] as trial 4.\n",
      "[INFO 08-20 20:29:30] ax.service.ax_client: Completed trial 4 with data: {'y': (-1.017348, None)}.\n",
      "[INFO 08-20 20:29:30] ax.core.experiment: Attached custom parameterizations [{'x': 5.100671}] as trial 5.\n",
      "[INFO 08-20 20:29:30] ax.service.ax_client: Completed trial 5 with data: {'y': (-1.012641, None)}.\n",
      "[INFO 08-20 20:29:30] ax.core.experiment: Attached custom parameterizations [{'x': 4.630872}] as trial 6.\n",
      "[INFO 08-20 20:29:30] ax.service.ax_client: Completed trial 6 with data: {'y': (-0.991485, None)}.\n",
      "[INFO 08-20 20:29:30] ax.core.experiment: Attached custom parameterizations [{'x': 4.765101}] as trial 7.\n",
      "[INFO 08-20 20:29:30] ax.service.ax_client: Completed trial 7 with data: {'y': (-0.985713, None)}.\n",
      "[INFO 08-20 20:29:30] ax.core.experiment: Attached custom parameterizations [{'x': 4.362416}] as trial 8.\n",
      "[INFO 08-20 20:29:31] ax.service.ax_client: Completed trial 8 with data: {'y': (-0.97956, None)}.\n",
      "[INFO 08-20 20:29:31] ax.core.experiment: Attached custom parameterizations [{'x': 5.167785}] as trial 9.\n",
      "[INFO 08-20 20:29:31] ax.service.ax_client: Completed trial 9 with data: {'y': (-0.955972, None)}.\n",
      "[INFO 08-20 20:29:31] ax.core.experiment: Attached custom parameterizations [{'x': 4.161074}] as trial 10.\n",
      "[INFO 08-20 20:29:31] ax.service.ax_client: Completed trial 10 with data: {'y': (-0.933151, None)}.\n",
      "[INFO 08-20 20:29:31] ax.core.experiment: Attached custom parameterizations [{'x': 4.496644}] as trial 11.\n",
      "[INFO 08-20 20:29:31] ax.service.ax_client: Completed trial 11 with data: {'y': (-0.930539, None)}.\n",
      "[INFO 08-20 20:29:31] ax.core.experiment: Attached custom parameterizations [{'x': 4.966443}] as trial 12.\n",
      "[INFO 08-20 20:29:31] ax.service.ax_client: Completed trial 12 with data: {'y': (-0.927667, None)}.\n",
      "[INFO 08-20 20:29:31] ax.core.experiment: Attached custom parameterizations [{'x': 4.697987}] as trial 13.\n",
      "[INFO 08-20 20:29:31] ax.service.ax_client: Completed trial 13 with data: {'y': (-0.926987, None)}.\n",
      "[INFO 08-20 20:29:31] ax.core.experiment: Attached custom parameterizations [{'x': 5.369128}] as trial 14.\n",
      "[INFO 08-20 20:29:31] ax.service.ax_client: Completed trial 14 with data: {'y': (-0.908503, None)}.\n",
      "[INFO 08-20 20:29:31] ax.core.experiment: Attached custom parameterizations [{'x': 5.234899}] as trial 15.\n",
      "[INFO 08-20 20:29:31] ax.service.ax_client: Completed trial 15 with data: {'y': (-0.897724, None)}.\n",
      "[INFO 08-20 20:29:31] ax.core.experiment: Attached custom parameterizations [{'x': 4.295302}] as trial 16.\n",
      "[INFO 08-20 20:29:31] ax.service.ax_client: Completed trial 16 with data: {'y': (-0.89653, None)}.\n",
      "[INFO 08-20 20:29:31] ax.core.experiment: Attached custom parameterizations [{'x': 4.832215}] as trial 17.\n",
      "[INFO 08-20 20:29:31] ax.service.ax_client: Completed trial 17 with data: {'y': (-0.878889, None)}.\n",
      "[INFO 08-20 20:29:31] ax.core.experiment: Attached custom parameterizations [{'x': 4.09396}] as trial 18.\n",
      "[INFO 08-20 20:29:31] ax.service.ax_client: Completed trial 18 with data: {'y': (-0.850745, None)}.\n",
      "[INFO 08-20 20:29:31] ax.core.experiment: Attached custom parameterizations [{'x': 4.026846}] as trial 19.\n",
      "[INFO 08-20 20:29:31] ax.service.ax_client: Completed trial 19 with data: {'y': (-0.841321, None)}.\n",
      "[INFO 08-20 20:29:31] ax.core.experiment: Attached custom parameterizations [{'x': 5.302013}] as trial 20.\n",
      "[INFO 08-20 20:29:31] ax.service.ax_client: Completed trial 20 with data: {'y': (-0.825533, None)}.\n",
      "[INFO 08-20 20:29:31] ax.core.experiment: Attached custom parameterizations [{'x': 5.57047}] as trial 21.\n",
      "[INFO 08-20 20:29:31] ax.service.ax_client: Completed trial 21 with data: {'y': (-0.807515, None)}.\n",
      "[INFO 08-20 20:29:31] ax.core.experiment: Attached custom parameterizations [{'x': 3.959732}] as trial 22.\n",
      "[INFO 08-20 20:29:31] ax.service.ax_client: Completed trial 22 with data: {'y': (-0.766149, None)}.\n",
      "[INFO 08-20 20:29:31] ax.core.experiment: Attached custom parameterizations [{'x': 3.892617}] as trial 23.\n",
      "[INFO 08-20 20:29:31] ax.service.ax_client: Completed trial 23 with data: {'y': (-0.74582, None)}.\n",
      "[INFO 08-20 20:29:31] ax.core.experiment: Attached custom parameterizations [{'x': 5.436242}] as trial 24.\n",
      "[INFO 08-20 20:29:31] ax.service.ax_client: Completed trial 24 with data: {'y': (-0.659177, None)}.\n",
      "[INFO 08-20 20:29:31] ax.core.experiment: Attached custom parameterizations [{'x': 5.503356}] as trial 25.\n",
      "[INFO 08-20 20:29:31] ax.service.ax_client: Completed trial 25 with data: {'y': (-0.656592, None)}.\n",
      "[INFO 08-20 20:29:31] ax.core.experiment: Attached custom parameterizations [{'x': 9.932886}] as trial 26.\n",
      "[INFO 08-20 20:29:31] ax.service.ax_client: Completed trial 26 with data: {'y': (-0.618116, None)}.\n",
      "[INFO 08-20 20:29:31] ax.core.experiment: Attached custom parameterizations [{'x': 3.825503}] as trial 27.\n",
      "[INFO 08-20 20:29:31] ax.service.ax_client: Completed trial 27 with data: {'y': (-0.601582, None)}.\n",
      "[INFO 08-20 20:29:31] ax.core.experiment: Attached custom parameterizations [{'x': 10.0}] as trial 28.\n",
      "[INFO 08-20 20:29:31] ax.service.ax_client: Completed trial 28 with data: {'y': (-0.59018, None)}.\n",
      "[INFO 08-20 20:29:31] ax.core.experiment: Attached custom parameterizations [{'x': 3.758389}] as trial 29.\n",
      "[INFO 08-20 20:29:31] ax.service.ax_client: Completed trial 29 with data: {'y': (-0.571773, None)}.\n",
      "[INFO 08-20 20:29:31] ax.core.experiment: Attached custom parameterizations [{'x': 3.557047}] as trial 30.\n",
      "[INFO 08-20 20:29:31] ax.service.ax_client: Completed trial 30 with data: {'y': (-0.521669, None)}.\n",
      "[INFO 08-20 20:29:31] ax.core.experiment: Attached custom parameterizations [{'x': 3.691275}] as trial 31.\n",
      "[INFO 08-20 20:29:31] ax.service.ax_client: Completed trial 31 with data: {'y': (-0.479583, None)}.\n",
      "[INFO 08-20 20:29:31] ax.core.experiment: Attached custom parameterizations [{'x': 5.90604}] as trial 32.\n",
      "[INFO 08-20 20:29:31] ax.service.ax_client: Completed trial 32 with data: {'y': (-0.475343, None)}.\n",
      "[INFO 08-20 20:29:31] ax.core.experiment: Attached custom parameterizations [{'x': 3.624161}] as trial 33.\n",
      "[INFO 08-20 20:29:31] ax.service.ax_client: Completed trial 33 with data: {'y': (-0.466874, None)}.\n",
      "[INFO 08-20 20:29:31] ax.core.experiment: Attached custom parameterizations [{'x': 9.798658}] as trial 34.\n",
      "[INFO 08-20 20:29:31] ax.service.ax_client: Completed trial 34 with data: {'y': (-0.456512, None)}.\n",
      "[INFO 08-20 20:29:31] ax.core.experiment: Attached custom parameterizations [{'x': 5.637584}] as trial 35.\n",
      "[INFO 08-20 20:29:31] ax.service.ax_client: Completed trial 35 with data: {'y': (-0.452854, None)}.\n",
      "[INFO 08-20 20:29:31] ax.core.experiment: Attached custom parameterizations [{'x': 5.838926}] as trial 36.\n",
      "[INFO 08-20 20:29:31] ax.service.ax_client: Completed trial 36 with data: {'y': (-0.447782, None)}.\n",
      "[INFO 08-20 20:29:31] ax.core.experiment: Attached custom parameterizations [{'x': 3.489933}] as trial 37.\n",
      "[INFO 08-20 20:29:31] ax.service.ax_client: Completed trial 37 with data: {'y': (-0.392419, None)}.\n",
      "[INFO 08-20 20:29:31] ax.core.experiment: Attached custom parameterizations [{'x': 5.771812}] as trial 38.\n",
      "[INFO 08-20 20:29:31] ax.service.ax_client: Completed trial 38 with data: {'y': (-0.371497, None)}.\n",
      "[INFO 08-20 20:29:31] ax.core.experiment: Attached custom parameterizations [{'x': 5.704698}] as trial 39.\n",
      "[INFO 08-20 20:29:31] ax.service.ax_client: Completed trial 39 with data: {'y': (-0.357169, None)}.\n",
      "[INFO 08-20 20:29:31] ax.core.experiment: Attached custom parameterizations [{'x': 9.865772}] as trial 40.\n",
      "[INFO 08-20 20:29:31] ax.service.ax_client: Completed trial 40 with data: {'y': (-0.315137, None)}.\n",
      "[INFO 08-20 20:29:31] ax.core.experiment: Attached custom parameterizations [{'x': 3.355705}] as trial 41.\n",
      "[INFO 08-20 20:29:31] ax.service.ax_client: Completed trial 41 with data: {'y': (-0.302026, None)}.\n",
      "[INFO 08-20 20:29:31] ax.core.experiment: Attached custom parameterizations [{'x': 6.040268}] as trial 42.\n",
      "[INFO 08-20 20:29:31] ax.service.ax_client: Completed trial 42 with data: {'y': (-0.280853, None)}.\n",
      "[INFO 08-20 20:29:31] ax.core.experiment: Attached custom parameterizations [{'x': 3.221477}] as trial 43.\n",
      "[INFO 08-20 20:29:31] ax.service.ax_client: Completed trial 43 with data: {'y': (-0.241189, None)}.\n",
      "[INFO 08-20 20:29:31] ax.core.experiment: Attached custom parameterizations [{'x': 3.422819}] as trial 44.\n",
      "[INFO 08-20 20:29:31] ax.service.ax_client: Completed trial 44 with data: {'y': (-0.238844, None)}.\n",
      "[INFO 08-20 20:29:31] ax.core.experiment: Attached custom parameterizations [{'x': 9.731544}] as trial 45.\n",
      "[INFO 08-20 20:29:31] ax.service.ax_client: Completed trial 45 with data: {'y': (-0.207529, None)}.\n",
      "[INFO 08-20 20:29:31] ax.core.experiment: Attached custom parameterizations [{'x': 5.973154}] as trial 46.\n",
      "[INFO 08-20 20:29:31] ax.service.ax_client: Completed trial 46 with data: {'y': (-0.199643, None)}.\n",
      "[INFO 08-20 20:29:31] ax.core.experiment: Attached custom parameterizations [{'x': 3.288591}] as trial 47.\n",
      "[INFO 08-20 20:29:31] ax.service.ax_client: Completed trial 47 with data: {'y': (-0.167743, None)}.\n",
      "[INFO 08-20 20:29:31] ax.core.experiment: Attached custom parameterizations [{'x': 9.395973}] as trial 48.\n",
      "[INFO 08-20 20:29:31] ax.service.ax_client: Completed trial 48 with data: {'y': (-0.120325, None)}.\n",
      "[INFO 08-20 20:29:31] ax.core.experiment: Attached custom parameterizations [{'x': 9.597315}] as trial 49.\n",
      "[INFO 08-20 20:29:31] ax.service.ax_client: Completed trial 49 with data: {'y': (-0.10818, None)}.\n",
      "/opt/miniconda3/envs/chemcar/lib/python3.11/site-packages/ax/modelbridge/cross_validation.py:462: UserWarning: Encountered exception in computing model fit quality: RandomModelBridge does not support prediction.\n",
      "  warn(\"Encountered exception in computing model fit quality: \" + str(e))\n",
      "[INFO 08-20 20:29:31] ax.service.ax_client: Generated new trial 50 with parameters {'x': 4.751072} using model Sobol.\n",
      "[INFO 08-20 20:29:31] ax.service.ax_client: Completed trial 50 with data: {'y': (-0.985713, None)}.\n",
      "/opt/miniconda3/envs/chemcar/lib/python3.11/site-packages/ax/modelbridge/cross_validation.py:462: UserWarning: Encountered exception in computing model fit quality: RandomModelBridge does not support prediction.\n",
      "  warn(\"Encountered exception in computing model fit quality: \" + str(e))\n",
      "[INFO 08-20 20:29:31] ax.service.ax_client: Generated new trial 51 with parameters {'x': 5.601231} using model Sobol.\n",
      "[INFO 08-20 20:29:31] ax.service.ax_client: Completed trial 51 with data: {'y': (-0.807515, None)}.\n",
      "/opt/miniconda3/envs/chemcar/lib/python3.11/site-packages/ax/modelbridge/cross_validation.py:462: UserWarning: Encountered exception in computing model fit quality: RandomModelBridge does not support prediction.\n",
      "  warn(\"Encountered exception in computing model fit quality: \" + str(e))\n",
      "[INFO 08-20 20:29:31] ax.service.ax_client: Generated new trial 52 with parameters {'x': 9.877832} using model Sobol.\n",
      "[INFO 08-20 20:29:31] ax.service.ax_client: Completed trial 52 with data: {'y': (-0.315137, None)}.\n",
      "/opt/miniconda3/envs/chemcar/lib/python3.11/site-packages/ax/modelbridge/cross_validation.py:462: UserWarning: Encountered exception in computing model fit quality: RandomModelBridge does not support prediction.\n",
      "  warn(\"Encountered exception in computing model fit quality: \" + str(e))\n",
      "[INFO 08-20 20:29:31] ax.service.ax_client: Generated new trial 53 with parameters {'x': 0.394894} using model Sobol.\n",
      "[INFO 08-20 20:29:31] ax.service.ax_client: Completed trial 53 with data: {'y': (0.486898, None)}.\n",
      "/opt/miniconda3/envs/chemcar/lib/python3.11/site-packages/ax/modelbridge/cross_validation.py:462: UserWarning: Encountered exception in computing model fit quality: RandomModelBridge does not support prediction.\n",
      "  warn(\"Encountered exception in computing model fit quality: \" + str(e))\n",
      "[INFO 08-20 20:29:31] ax.service.ax_client: Generated new trial 54 with parameters {'x': 2.459032} using model Sobol.\n",
      "[INFO 08-20 20:29:31] ax.service.ax_client: Completed trial 54 with data: {'y': (0.732067, None)}.\n"
     ]
    },
    {
     "name": "stdout",
     "output_type": "stream",
     "text": [
      "Next parameters to try:\n",
      "x: 4.751071929931641\n",
      "Next parameters to try:\n",
      "x: 5.601231446489692\n",
      "Next parameters to try:\n",
      "x: 9.877832401543856\n",
      "Next parameters to try:\n",
      "x: 0.39489383809268475\n",
      "Next parameters to try:\n",
      "x: 2.4590322002768517\n"
     ]
    },
    {
     "name": "stderr",
     "output_type": "stream",
     "text": [
      "[INFO 08-20 20:29:32] ax.service.ax_client: Generated new trial 55 with parameters {'x': 1.69975} using model BoTorch.\n",
      "[INFO 08-20 20:29:32] ax.service.ax_client: Completed trial 55 with data: {'y': (0.848838, None)}.\n"
     ]
    },
    {
     "name": "stdout",
     "output_type": "stream",
     "text": [
      "Next parameters to try:\n",
      "x: 1.6997495164204792\n"
     ]
    },
    {
     "name": "stderr",
     "output_type": "stream",
     "text": [
      "[INFO 08-20 20:29:32] ax.service.ax_client: Generated new trial 56 with parameters {'x': 7.756949} using model BoTorch.\n",
      "[INFO 08-20 20:29:32] ax.service.ax_client: Completed trial 56 with data: {'y': (1.092363, None)}.\n"
     ]
    },
    {
     "name": "stdout",
     "output_type": "stream",
     "text": [
      "Next parameters to try:\n",
      "x: 7.756949038789406\n"
     ]
    },
    {
     "name": "stderr",
     "output_type": "stream",
     "text": [
      "[INFO 08-20 20:29:33] ax.service.ax_client: Generated new trial 57 with parameters {'x': 7.994726} using model BoTorch.\n",
      "[INFO 08-20 20:29:33] ax.service.ax_client: Completed trial 57 with data: {'y': (1.083443, None)}.\n"
     ]
    },
    {
     "name": "stdout",
     "output_type": "stream",
     "text": [
      "Next parameters to try:\n",
      "x: 7.994726443808485\n"
     ]
    },
    {
     "name": "stderr",
     "output_type": "stream",
     "text": [
      "[INFO 08-20 20:29:33] ax.service.ax_client: Generated new trial 58 with parameters {'x': 7.558189} using model BoTorch.\n",
      "[INFO 08-20 20:29:33] ax.service.ax_client: Completed trial 58 with data: {'y': (1.154754, None)}.\n"
     ]
    },
    {
     "name": "stdout",
     "output_type": "stream",
     "text": [
      "Next parameters to try:\n",
      "x: 7.558189440718025\n"
     ]
    },
    {
     "name": "stderr",
     "output_type": "stream",
     "text": [
      "[INFO 08-20 20:29:34] ax.service.ax_client: Generated new trial 59 with parameters {'x': 7.861235} using model BoTorch.\n",
      "[INFO 08-20 20:29:34] ax.service.ax_client: Completed trial 59 with data: {'y': (0.984498, None)}.\n"
     ]
    },
    {
     "name": "stdout",
     "output_type": "stream",
     "text": [
      "Next parameters to try:\n",
      "x: 7.861235002326433\n"
     ]
    },
    {
     "name": "stderr",
     "output_type": "stream",
     "text": [
      "[INFO 08-20 20:29:34] ax.service.ax_client: Generated new trial 60 with parameters {'x': 7.439638} using model BoTorch.\n",
      "[INFO 08-20 20:29:34] ax.service.ax_client: Completed trial 60 with data: {'y': (1.009976, None)}.\n"
     ]
    },
    {
     "name": "stdout",
     "output_type": "stream",
     "text": [
      "Next parameters to try:\n",
      "x: 7.439637842777282\n"
     ]
    },
    {
     "name": "stderr",
     "output_type": "stream",
     "text": [
      "[INFO 08-20 20:29:35] ax.service.ax_client: Generated new trial 61 with parameters {'x': 7.66247} using model BoTorch.\n",
      "[INFO 08-20 20:29:35] ax.service.ax_client: Completed trial 61 with data: {'y': (0.952671, None)}.\n"
     ]
    },
    {
     "name": "stdout",
     "output_type": "stream",
     "text": [
      "Next parameters to try:\n",
      "x: 7.662470250757694\n"
     ]
    },
    {
     "name": "stderr",
     "output_type": "stream",
     "text": [
      "[INFO 08-20 20:29:35] ax.service.ax_client: Generated new trial 62 with parameters {'x': 1.37225} using model BoTorch.\n",
      "[INFO 08-20 20:29:35] ax.service.ax_client: Completed trial 62 with data: {'y': (0.718705, None)}.\n"
     ]
    },
    {
     "name": "stdout",
     "output_type": "stream",
     "text": [
      "Next parameters to try:\n",
      "x: 1.3722499598963651\n"
     ]
    },
    {
     "name": "stderr",
     "output_type": "stream",
     "text": [
      "[INFO 08-20 20:29:36] ax.service.ax_client: Generated new trial 63 with parameters {'x': 8.105308} using model BoTorch.\n",
      "[INFO 08-20 20:29:36] ax.service.ax_client: Completed trial 63 with data: {'y': (0.854673, None)}.\n"
     ]
    },
    {
     "name": "stdout",
     "output_type": "stream",
     "text": [
      "Next parameters to try:\n",
      "x: 8.105308322328007\n"
     ]
    },
    {
     "name": "stderr",
     "output_type": "stream",
     "text": [
      "/opt/miniconda3/envs/chemcar/lib/python3.11/site-packages/botorch/optim/optimize.py:564: RuntimeWarning: Optimization failed in `gen_candidates_scipy` with the following warning(s):\n",
      "[NumericalWarning('A not p.d., added jitter of 1.0e-08 to the diagonal'), OptimizationWarning('Optimization failed within `scipy.optimize.minimize` with status 2 and message ABNORMAL_TERMINATION_IN_LNSRCH.'), NumericalWarning('A not p.d., added jitter of 1.0e-08 to the diagonal')]\n",
      "Trying again with a new set of initial conditions.\n",
      "  return _optimize_acqf_batch(opt_inputs=opt_inputs)\n",
      "/opt/miniconda3/envs/chemcar/lib/python3.11/site-packages/botorch/optim/optimize.py:564: RuntimeWarning: Optimization failed on the second try, after generating a new set of initial conditions.\n",
      "  return _optimize_acqf_batch(opt_inputs=opt_inputs)\n",
      "[INFO 08-20 20:29:37] ax.service.ax_client: Generated new trial 64 with parameters {'x': 7.615406} using model BoTorch.\n",
      "[INFO 08-20 20:29:37] ax.service.ax_client: Completed trial 64 with data: {'y': (1.154754, None)}.\n"
     ]
    },
    {
     "name": "stdout",
     "output_type": "stream",
     "text": [
      "Next parameters to try:\n",
      "x: 7.615406122255461\n"
     ]
    },
    {
     "name": "stderr",
     "output_type": "stream",
     "text": [
      "[INFO 08-20 20:29:38] ax.service.ax_client: Generated new trial 65 with parameters {'x': 7.499249} using model BoTorch.\n",
      "[INFO 08-20 20:29:38] ax.service.ax_client: Completed trial 65 with data: {'y': (0.857561, None)}.\n"
     ]
    },
    {
     "name": "stdout",
     "output_type": "stream",
     "text": [
      "Next parameters to try:\n",
      "x: 7.499248531063546\n"
     ]
    },
    {
     "name": "stderr",
     "output_type": "stream",
     "text": [
      "[INFO 08-20 20:29:38] ax.service.ax_client: Generated new trial 66 with parameters {'x': 7.711908} using model BoTorch.\n",
      "[INFO 08-20 20:29:38] ax.service.ax_client: Completed trial 66 with data: {'y': (1.071031, None)}.\n"
     ]
    },
    {
     "name": "stdout",
     "output_type": "stream",
     "text": [
      "Next parameters to try:\n",
      "x: 7.711907656324776\n"
     ]
    },
    {
     "name": "stderr",
     "output_type": "stream",
     "text": [
      "/opt/miniconda3/envs/chemcar/lib/python3.11/site-packages/botorch/optim/optimize.py:564: RuntimeWarning: Optimization failed in `gen_candidates_scipy` with the following warning(s):\n",
      "[OptimizationWarning('Optimization failed within `scipy.optimize.minimize` with status 2 and message ABNORMAL_TERMINATION_IN_LNSRCH.')]\n",
      "Trying again with a new set of initial conditions.\n",
      "  return _optimize_acqf_batch(opt_inputs=opt_inputs)\n",
      "[INFO 08-20 20:29:40] ax.service.ax_client: Generated new trial 67 with parameters {'x': 7.804396} using model BoTorch.\n",
      "[INFO 08-20 20:29:40] ax.service.ax_client: Completed trial 67 with data: {'y': (1.092363, None)}.\n"
     ]
    },
    {
     "name": "stdout",
     "output_type": "stream",
     "text": [
      "Next parameters to try:\n",
      "x: 7.804396306690443\n"
     ]
    },
    {
     "name": "stderr",
     "output_type": "stream",
     "text": [
      "/opt/miniconda3/envs/chemcar/lib/python3.11/site-packages/botorch/optim/optimize.py:564: RuntimeWarning: Optimization failed in `gen_candidates_scipy` with the following warning(s):\n",
      "[OptimizationWarning('Optimization failed within `scipy.optimize.minimize` with status 2 and message ABNORMAL_TERMINATION_IN_LNSRCH.')]\n",
      "Trying again with a new set of initial conditions.\n",
      "  return _optimize_acqf_batch(opt_inputs=opt_inputs)\n",
      "[INFO 08-20 20:29:41] ax.service.ax_client: Generated new trial 68 with parameters {'x': 7.915136} using model BoTorch.\n",
      "[INFO 08-20 20:29:41] ax.service.ax_client: Completed trial 68 with data: {'y': (1.059265, None)}.\n"
     ]
    },
    {
     "name": "stdout",
     "output_type": "stream",
     "text": [
      "Next parameters to try:\n",
      "x: 7.915135915667011\n"
     ]
    },
    {
     "name": "stderr",
     "output_type": "stream",
     "text": [
      "[INFO 08-20 20:29:42] ax.service.ax_client: Generated new trial 69 with parameters {'x': 1.976727} using model BoTorch.\n",
      "[INFO 08-20 20:29:42] ax.service.ax_client: Completed trial 69 with data: {'y': (1.077256, None)}.\n"
     ]
    },
    {
     "name": "stdout",
     "output_type": "stream",
     "text": [
      "Next parameters to try:\n",
      "x: 1.9767268871413446\n",
      "Best parameters:\n",
      "x: 7.711907656324776\n",
      "\n",
      "Best target value:\n",
      "1.0546857477846379\n"
     ]
    },
    {
     "data": {
      "image/png": "[encoded data removed]",
      "text/plain": [
       "<Figure size 640x480 with 1 Axes>"
      ]
     },
     "metadata": {},
     "output_type": "display_data"
    }
   ],
   "source": [
    "import numpy as np\n",
    "import matplotlib.pyplot as plt\n",
    "import pandas as pd\n",
    "from ax.service.ax_client import AxClient\n",
    "from ax.service.utils.instantiation import ObjectiveProperties\n",
    "\n",
    "np.random.seed(0)\n",
    "\n",
    "# Step 1: Generate synthetic dataset of a sine wave with noise\n",
    "np.random.seed(0)\n",
    "n = 150\n",
    "x = np.linspace(0, 10, n)\n",
    "y = np.sin(x) + np.random.normal(0, 0.1, n)\n",
    "data = pd.DataFrame({'x': x, 'y': y})\n",
    "\n",
    "plt.scatter(x, y)\n",
    "plt.show()\n",
    "\n",
    "# Step 2: Index out the bottom 10 points to train off of \n",
    "df = data.nsmallest(50, 'y')\n",
    "initial = df\n",
    "df.to_csv('synthetic_data_sampled.csv', index=False)\n",
    "\n",
    "# Step 3: Setup the Ax optimization client\n",
    "ax_client = AxClient(random_seed=0)\n",
    "\n",
    "# D efine the parameters based on your synthetic data\n",
    "parameters = [\n",
    "    {\"name\": \"x\", \"type\": \"range\", \"bounds\": [0.0, 10.0]}\n",
    "]\n",
    "\n",
    "# Create the experiment\n",
    "ax_client.create_experiment(\n",
    "    name=\"synthetic_experiment\",\n",
    "    parameters=parameters,\n",
    "    objectives={\"y\": ObjectiveProperties(minimize=False)},\n",
    ")\n",
    "\n",
    "# Attach existing trials from the bottom 10 points\n",
    "index = 0\n",
    "for i, row in df.iterrows():\n",
    "    parameters = {\"x\": row[\"x\"]}\n",
    "    objective_value = row['y']\n",
    "    ax_client.attach_trial(parameters)\n",
    "    ax_client.complete_trial(trial_index=index, raw_data={\"y\": objective_value})\n",
    "    index += 1\n",
    "\n",
    "for j in range(20):\n",
    "    df = pd.read_csv('synthetic_data_sampled.csv')\n",
    "\n",
    "    # Get next set of parameters to try\n",
    "    parameters, trial_index = ax_client.get_next_trial()\n",
    "\n",
    "    # Print the parameters\n",
    "    print(\"Next parameters to try:\")\n",
    "    for key, value in parameters.items():\n",
    "        print(f\"{key}: {value}\")\n",
    "\n",
    "    # Here you would typically run your experiment with these parameters\n",
    "    # and get a result. For this example, let's just use a dummy result\n",
    "    # set the result as the y value that best matches the x value suggested using euclidian distance \n",
    "    result = data.loc[(data['x'] - parameters['x']).abs().argsort()[:1]]['y'].values[0]\n",
    "\n",
    "    # Complete the trial with the result\n",
    "    ax_client.complete_trial(trial_index=trial_index, raw_data={\"y\": result})\n",
    "\n",
    "    # Append the new trial to the dataframe\n",
    "    new_row = pd.DataFrame(parameters, index=[trial_index])\n",
    "    new_row['y'] = result\n",
    "    df = pd.concat([df, new_row], ignore_index=True)\n",
    "\n",
    "    df.describe()\n",
    "\n",
    "    # Save the updated dataframe to a CSV file\n",
    "    df.to_csv('synthetic_data_sampled.csv', index=False)\n",
    "\n",
    "# Get the best parameters\n",
    "best_parameters, metrics = ax_client.get_best_parameters()\n",
    "\n",
    "# Print the best parameters\n",
    "print(\"Best parameters:\")\n",
    "for key, value in best_parameters.items():\n",
    "    print(f\"{key}: {value}\")\n",
    "\n",
    "print(\"\\nBest target value:\")\n",
    "print(metrics[0]['y'])\n",
    "\n",
    "plt.scatter(x, y, color='blue')\n",
    "plt.scatter(df['x'], df['y'], color='red')\n",
    "plt.scatter(initial ['x'], initial['y'], color='green')\n",
    "plt.show()"
   ]
  }
 ],
 "metadata": {
  "kernelspec": {
   "display_name": "chemcar",
   "language": "python",
   "name": "python3"
  },
  "language_info": {
   "codemirror_mode": {
    "name": "ipython",
    "version": 3
   },
   "file_extension": ".py",
   "mimetype": "text/x-python",
   "name": "python",
   "nbconvert_exporter": "python",
   "pygments_lexer": "ipython3",
   "version": "3.11.9"
  }
 },
 "nbformat": 4,
 "nbformat_minor": 2
}
