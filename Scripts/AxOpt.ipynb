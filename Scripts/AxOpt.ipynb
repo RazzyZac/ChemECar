{
 "cells": [
  {
   "cell_type": "markdown",
   "metadata": {},
   "source": [
    "# Bayesian Optimization with Ax"
   ]
  },
  {
   "cell_type": "markdown",
   "metadata": {},
   "source": [
    "### Setup\n",
    "\n",
    "#### Import Libraries\n",
    "\n",
    "This script uses the Ax Bayesian Optimization model to try to find the best parameters for optimizing a battery for the University of Utah Chemical Engineering Car Club. There is a 2D example of this script in the AxDemonstration notebook. "
   ]
  },
  {
   "cell_type": "code",
   "execution_count": 5,
   "metadata": {},
   "outputs": [],
   "source": [
    "from ax.service.ax_client import AxClient\n",
    "import pandas as pd\n",
    "from ax.service.utils.instantiation import ObjectiveProperties\n",
    "from IPython.display import clear_output\n",
    "from time import sleep"
   ]
  },
  {
   "cell_type": "markdown",
   "metadata": {},
   "source": [
    "### Train the Model \n",
    "\n",
    "Using the collected data, train the Ax model and use it to suggest a new set of parameters to test. \n",
    "\n",
    "The output of this code will be a set of the parameters that you need to test next.\n",
    "\n",
    "Run the code below to get a list of parameters to try. "
   ]
  },
  {
   "cell_type": "code",
   "execution_count": 6,
   "metadata": {},
   "outputs": [
    {
     "name": "stderr",
     "output_type": "stream",
     "text": [
      "[INFO 09-06 15:52:52] ax.service.utils.instantiation: Inferred value type of ParameterType.FLOAT for parameter SizeOfCell. If that is not the expected value type, you can explicitly specify 'value_type' ('int', 'float', 'bool' or 'str') in parameter dict.\n",
      "/opt/miniconda3/envs/chemcar/lib/python3.11/site-packages/ax/service/utils/instantiation.py:244: AxParameterWarning: `is_ordered` is not specified for `ChoiceParameter` \"SizeOfCell\". Defaulting to `True`  since the parameter is not of type string.. To override this behavior (or avoid this warning), specify `is_ordered` during `ChoiceParameter` construction. Note that choice parameters with exactly 2 choices are always considered ordered and that the user-supplied `is_ordered` has no effect in this particular case.\n",
      "  return ChoiceParameter(\n",
      "/opt/miniconda3/envs/chemcar/lib/python3.11/site-packages/ax/service/utils/instantiation.py:244: AxParameterWarning: `sort_values` is not specified for `ChoiceParameter` \"SizeOfCell\". Defaulting to `True` for parameters of `ParameterType` FLOAT. To override this behavior (or avoid this warning), specify `sort_values` during `ChoiceParameter` construction.\n",
      "  return ChoiceParameter(\n",
      "[INFO 09-06 15:52:52] ax.service.utils.instantiation: Inferred value type of ParameterType.FLOAT for parameter ManganeseGraphiteRatio. If that is not the expected value type, you can explicitly specify 'value_type' ('int', 'float', 'bool' or 'str') in parameter dict.\n",
      "[INFO 09-06 15:52:52] ax.service.utils.instantiation: Inferred value type of ParameterType.INT for parameter LayersOfPaper. If that is not the expected value type, you can explicitly specify 'value_type' ('int', 'float', 'bool' or 'str') in parameter dict.\n",
      "/opt/miniconda3/envs/chemcar/lib/python3.11/site-packages/ax/service/utils/instantiation.py:244: AxParameterWarning: `is_ordered` is not specified for `ChoiceParameter` \"LayersOfPaper\". Defaulting to `True`  since there are exactly two choices.. To override this behavior (or avoid this warning), specify `is_ordered` during `ChoiceParameter` construction. Note that choice parameters with exactly 2 choices are always considered ordered and that the user-supplied `is_ordered` has no effect in this particular case.\n",
      "  return ChoiceParameter(\n",
      "/opt/miniconda3/envs/chemcar/lib/python3.11/site-packages/ax/service/utils/instantiation.py:244: AxParameterWarning: `sort_values` is not specified for `ChoiceParameter` \"LayersOfPaper\". Defaulting to `True` for parameters of `ParameterType` INT. To override this behavior (or avoid this warning), specify `sort_values` during `ChoiceParameter` construction.\n",
      "  return ChoiceParameter(\n",
      "[INFO 09-06 15:52:52] ax.service.utils.instantiation: Inferred value type of ParameterType.FLOAT for parameter Chloride. If that is not the expected value type, you can explicitly specify 'value_type' ('int', 'float', 'bool' or 'str') in parameter dict.\n",
      "[INFO 09-06 15:52:52] ax.service.utils.instantiation: Created search space: SearchSpace(parameters=[ChoiceParameter(name='SizeOfCell', parameter_type=FLOAT, values=[1.53, 1.8, 2.0], is_ordered=True, sort_values=True), RangeParameter(name='ManganeseGraphiteRatio', parameter_type=FLOAT, range=[1.0, 3.5]), ChoiceParameter(name='LayersOfPaper', parameter_type=INT, values=[1, 2], is_ordered=True, sort_values=True), RangeParameter(name='Chloride', parameter_type=FLOAT, range=[0.9, 1.5])], parameter_constraints=[]).\n",
      "[INFO 09-06 15:52:52] ax.modelbridge.dispatch_utils: Using Models.BOTORCH_MODULAR since there is at least one ordered parameter and there are no unordered categorical parameters.\n",
      "[INFO 09-06 15:52:52] ax.modelbridge.dispatch_utils: Calculating the number of remaining initialization trials based on num_initialization_trials=None max_initialization_trials=None num_tunable_parameters=4 num_trials=None use_batch_trials=False\n",
      "[INFO 09-06 15:52:52] ax.modelbridge.dispatch_utils: calculated num_initialization_trials=8\n",
      "[INFO 09-06 15:52:52] ax.modelbridge.dispatch_utils: num_completed_initialization_trials=0 num_remaining_initialization_trials=8\n",
      "[INFO 09-06 15:52:52] ax.modelbridge.dispatch_utils: `verbose`, `disable_progbar`, and `jit_compile` are not yet supported when using `choose_generation_strategy` with ModularBoTorchModel, dropping these arguments.\n",
      "[INFO 09-06 15:52:52] ax.modelbridge.dispatch_utils: Using Bayesian Optimization generation strategy: GenerationStrategy(name='Sobol+BoTorch', steps=[Sobol for 8 trials, BoTorch for subsequent trials]). Iterations after 8 will take longer to generate due to model-fitting.\n",
      "[INFO 09-06 15:52:52] ax.core.experiment: Attached custom parameterizations [{'SizeOfCell': 1.53, 'ManganeseGraphiteRatio': 1.37, 'LayersOfPaper': 2, 'Chloride': 1.43}] as trial 0.\n",
      "/opt/miniconda3/envs/chemcar/lib/python3.11/site-packages/ax/modelbridge/cross_validation.py:462: UserWarning: Encountered exception in computing model fit quality: RandomModelBridge does not support prediction.\n",
      "  warn(\"Encountered exception in computing model fit quality: \" + str(e))\n"
     ]
    },
    {
     "ename": "KeyError",
     "evalue": "'Manganese'",
     "output_type": "error",
     "traceback": [
      "\u001b[0;31m---------------------------------------------------------------------------\u001b[0m",
      "\u001b[0;31mKeyError\u001b[0m                                  Traceback (most recent call last)",
      "Cell \u001b[0;32mIn[6], line 32\u001b[0m\n\u001b[1;32m     29\u001b[0m parameters, trial_index \u001b[38;5;241m=\u001b[39m ax_client\u001b[38;5;241m.\u001b[39mget_next_trial()\n\u001b[1;32m     31\u001b[0m \u001b[38;5;66;03m# Compute x3 based on the generated x2\u001b[39;00m\n\u001b[0;32m---> 32\u001b[0m parameters[\u001b[38;5;124m\"\u001b[39m\u001b[38;5;124mGraphite\u001b[39m\u001b[38;5;124m\"\u001b[39m] \u001b[38;5;241m=\u001b[39m \u001b[38;5;241m1\u001b[39m \u001b[38;5;241m-\u001b[39m parameters[\u001b[38;5;124m\"\u001b[39m\u001b[38;5;124mManganese\u001b[39m\u001b[38;5;124m\"\u001b[39m]\n\u001b[1;32m     34\u001b[0m \u001b[38;5;66;03m# Assume the total weight is 15 grams\u001b[39;00m\n\u001b[1;32m     35\u001b[0m total_weight \u001b[38;5;241m=\u001b[39m \u001b[38;5;241m15.0\u001b[39m  \u001b[38;5;66;03m# in grams\u001b[39;00m\n",
      "\u001b[0;31mKeyError\u001b[0m: 'Manganese'"
     ]
    }
   ],
   "source": [
    "# Read the CSV file\n",
    "df = pd.read_csv('../Datasets/ObservedData.csv')\n",
    "\n",
    "ax_client = AxClient(verbose_logging=False)\n",
    "\n",
    "# Define the parameters based on your CSV columns\n",
    "parameters = [\n",
    "    {\"name\": \"SizeOfCell\", \"type\": \"choice\", \"values\": [1.53, 1.8, 2.0]},\n",
    "    {\"name\": \"ManganeseGraphiteRatio\", \"type\": \"range\", \"bounds\": [1.0, 3.5]},\n",
    "    {\"name\": \"LayersOfPaper\", \"type\": \"choice\", \"values\": [1, 2]},\n",
    "    {\"name\": \"Chloride\", \"type\": \"range\", \"bounds\": [0.9, 1.5]}\n",
    "]\n",
    "\n",
    "# Create the experiment\n",
    "ax_client.create_experiment(\n",
    "    name=\"battery_optimization\",\n",
    "    parameters=parameters,\n",
    "    objectives={\"y\": ObjectiveProperties(minimize=False)}\n",
    ")\n",
    "\n",
    "# Attach existing trials from the CSV\n",
    "for i, row in df.iterrows():\n",
    "    parameters = {\"SizeOfCell\": row[\"Size of the Cell\"], \"ManganeseGraphiteRatio\": row[\"Manganese to Graphite Ratio\"], \"LayersOfPaper\": int(row[\"Layers of Filter Paper\"]), \"Chloride\": row[\"3M Ammonium Chloride Saturation (mL)\"]}\n",
    "    objective_value = row['Power (W)']\n",
    "    ax_client.attach_trial(parameters)\n",
    "    ax_client.complete_trial(trial_index=i, raw_data={\"y\": objective_value})\n",
    "\n",
    "# Get next set of parameters to try\n",
    "parameters, trial_index = ax_client.get_next_trial()\n",
    "\n",
    "\n",
    "# Assume the total weight is 15 grams\n",
    "total_weight = 15.0  # in grams\n",
    "\n",
    "# weight percent of manganese dioxide\n",
    "manganese_weight_percent = (parameters[\"ManganeseGraphiteRatio\"])/(parameters[\"ManganeseGraphiteRatio\"] + 1)\n",
    "graphite_weight_percent = 1 - manganese_weight_percent\n",
    "manganese_weight = total_weight * manganese_weight_percent\n",
    "graphite_weight = total_weight * graphite_weight_percent\n",
    "\n",
    "# Constants\n",
    "molarity = 3.0  # Molarity in moles per liter\n",
    "molar_mass_ammonium_chloride = 53.49  # Molar mass of NH4Cl in g/mol\n",
    "\n",
    "# Given volume of the solution in milliliters, convert to liters\n",
    "volume_liters = parameters[\"Chloride\"] / 1000  # Convert mL to L\n",
    "\n",
    "# Calculate moles of ammonium chloride needed\n",
    "moles_ammonium_chloride = molarity * volume_liters\n",
    "\n",
    "# Convert moles to grams\n",
    "grams_ammonium_chloride = (total_weight/1000) * 3 * molar_mass_ammonium_chloride\n",
    "\n",
    "clear_output()\n",
    "sleep(0.2)\n",
    "\n",
    "# Print the next set of parameters to try, including weights in grams\n",
    "print(\"Next set of parameters to try:\")\n",
    "print(f\"Size of the Cell: {parameters['SizeOfCell']:.3f} cm diameter\")\n",
    "print(f\"Manganese Dioxide: {manganese_weight:.2f} g ({parameters['Manganese']*100:.1f}%)\")\n",
    "print(f\"Graphite: {graphite_weight:.2f} g ({parameters['Graphite']*100:.1f}%)\")\n",
    "print(f\"Ratio of Manganese Dioxide to Graphite: {parameters['ManganeseGraphiteRatio']:.2f}:1\")\n",
    "print(f\"Layers of Filter Paper: {parameters['LayersOfPaper']} layers\")\n",
    "print(f\"Water: {parameters['Chloride']*15:.3f} ml ({parameters['Chloride']:.2f}% Saturation)\")\n",
    "print(f\"Dry Ammonium Chloride required: {(parameters['Chloride']*grams_ammonium_chloride):.2f} g\")"
   ]
  },
  {
   "cell_type": "markdown",
   "metadata": {},
   "source": [
    "### Log the Data\n",
    "\n",
    "Run the code below to get the input prompt to log the data. This number is the average voltage recorded from the battery using the suggested parameters. "
   ]
  },
  {
   "cell_type": "code",
   "execution_count": null,
   "metadata": {},
   "outputs": [],
   "source": [
    "# Here you would typically run your experiment with these parameters\n",
    "# and get a result. For this example, let's just use a dummy result\n",
    "result = float(input(\"Input the tested variable\"))  # Replace this with your actual experimental result\n",
    "\n",
    "# Complete the trial with the result\n",
    "ax_client.complete_trial(trial_index=trial_index, raw_data={\"y\": result})"
   ]
  },
  {
   "cell_type": "markdown",
   "metadata": {},
   "source": [
    "### Save the Data\n",
    "\n",
    "Run the cell below to save the new parameters and observed value to the csv file. This will allow the model to incorperate the new data into its future fittings."
   ]
  },
  {
   "cell_type": "code",
   "execution_count": null,
   "metadata": {},
   "outputs": [],
   "source": [
    "\n",
    "# round parameters to 3 decimal places\n",
    "parameters = {key: round(value, 3) for key, value in parameters.items()}\n",
    "\n",
    "# Prepare the new row as a DataFrame\n",
    "new_row = pd.DataFrame([{\n",
    "    \"Size of the Cell\": parameters['SizeOfCell'],\n",
    "    \"Manganese to Graphite Ratio\": parameters['ManganeseGraphiteRatio'],\n",
    "    \"Layers of Filter Paper\": parameters['LayersOfPaper'],\n",
    "    \"3M Ammonium Chloride Saturation (mL)\": parameters['Chloride'],\n",
    "    \"Power (W)\": result\n",
    "}])\n",
    "\n",
    "# Concatenate the new row to the existing DataFrame\n",
    "df = pd.concat([df, new_row], ignore_index=True)\n",
    "\n",
    "# Save the updated dataframe to a CSV file\n",
    "df.to_csv('../Datasets/ObservedData.csv', index=False)"
   ]
  },
  {
   "cell_type": "markdown",
   "metadata": {},
   "source": [
    "### Print the top parameters found so far"
   ]
  },
  {
   "cell_type": "code",
   "execution_count": null,
   "metadata": {},
   "outputs": [
    {
     "name": "stdout",
     "output_type": "stream",
     "text": [
      "\n",
      "Best parameters:\n",
      "SizeOfCell: 1.530\n",
      "Manganese: 0.542\n",
      "LayersOfPaper: 1\n",
      "Chloride: 1.425\n",
      "\n",
      "Best target value:\n",
      "110.0\n"
     ]
    }
   ],
   "source": [
    "# Get the best parameters\n",
    "best_parameters, metrics = ax_client.get_best_parameters()\n",
    "\n",
    "# Print the best parameters to 3 decimal places\n",
    "print(\"\\nBest parameters:\")\n",
    "for key, value in best_parameters.items():\n",
    "    if isinstance(value, float):\n",
    "        print(f\"{key}: {value:.3f}\")\n",
    "    else:\n",
    "        print(f\"{key}: {value}\")\n",
    "\n",
    "print(\"\\nBest target value:\")\n",
    "print(metrics[0]['y'])"
   ]
  }
 ],
 "metadata": {
  "kernelspec": {
   "display_name": "chemcar",
   "language": "python",
   "name": "python3"
  },
  "language_info": {
   "codemirror_mode": {
    "name": "ipython",
    "version": 3
   },
   "file_extension": ".py",
   "mimetype": "text/x-python",
   "name": "python",
   "nbconvert_exporter": "python",
   "pygments_lexer": "ipython3",
   "version": "3.11.9"
  }
 },
 "nbformat": 4,
 "nbformat_minor": 2
}
