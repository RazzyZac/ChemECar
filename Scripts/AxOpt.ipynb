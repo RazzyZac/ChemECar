{
 "cells": [
  {
   "cell_type": "markdown",
   "metadata": {},
   "source": [
    "# Bayesian Optimization with Ax"
   ]
  },
  {
   "cell_type": "markdown",
   "metadata": {},
   "source": [
    "### Setup\n",
    "\n",
    "#### Import Libraries\n",
    "\n",
    "This script uses the Ax Bayesian Optimization model to try to find the best parameters for optimizing a battery for the University of Utah Chemical Engineering Car Club. There is a 2D example of this script in the AxDemonstration notebook. "
   ]
  },
  {
   "cell_type": "code",
   "execution_count": 1,
   "metadata": {},
   "outputs": [],
   "source": [
    "from ax.service.ax_client import AxClient\n",
    "import pandas as pd\n",
    "from ax.service.utils.instantiation import ObjectiveProperties\n",
    "from IPython.display import clear_output"
   ]
  },
  {
   "cell_type": "markdown",
   "metadata": {},
   "source": [
    "### Train the Model \n",
    "\n",
    "Using the collected data, train the Ax model and use it to suggest a new set of parameters to test. \n",
    "\n",
    "The output of this code will be a set of the parameters that you need to test next."
   ]
  },
  {
   "cell_type": "code",
   "execution_count": 2,
   "metadata": {},
   "outputs": [
    {
     "name": "stderr",
     "output_type": "stream",
     "text": [
      "[INFO 08-23 10:57:53] ax.service.utils.instantiation: Inferred value type of ParameterType.FLOAT for parameter SizeOfCell. If that is not the expected value type, you can explicitly specify 'value_type' ('int', 'float', 'bool' or 'str') in parameter dict.\n",
      "[INFO 08-23 10:57:53] ax.service.utils.instantiation: Inferred value type of ParameterType.FLOAT for parameter Magnesium. If that is not the expected value type, you can explicitly specify 'value_type' ('int', 'float', 'bool' or 'str') in parameter dict.\n",
      "[INFO 08-23 10:57:53] ax.service.utils.instantiation: Inferred value type of ParameterType.INT for parameter LayersOfPaper. If that is not the expected value type, you can explicitly specify 'value_type' ('int', 'float', 'bool' or 'str') in parameter dict.\n",
      "/opt/miniconda3/envs/chemcar/lib/python3.11/site-packages/ax/service/utils/instantiation.py:244: AxParameterWarning: `is_ordered` is not specified for `ChoiceParameter` \"LayersOfPaper\". Defaulting to `True`  since there are exactly two choices.. To override this behavior (or avoid this warning), specify `is_ordered` during `ChoiceParameter` construction. Note that choice parameters with exactly 2 choices are always considered ordered and that the user-supplied `is_ordered` has no effect in this particular case.\n",
      "  return ChoiceParameter(\n",
      "/opt/miniconda3/envs/chemcar/lib/python3.11/site-packages/ax/service/utils/instantiation.py:244: AxParameterWarning: `sort_values` is not specified for `ChoiceParameter` \"LayersOfPaper\". Defaulting to `True` for parameters of `ParameterType` INT. To override this behavior (or avoid this warning), specify `sort_values` during `ChoiceParameter` construction.\n",
      "  return ChoiceParameter(\n",
      "[INFO 08-23 10:57:53] ax.service.utils.instantiation: Inferred value type of ParameterType.FLOAT for parameter Chloride. If that is not the expected value type, you can explicitly specify 'value_type' ('int', 'float', 'bool' or 'str') in parameter dict.\n",
      "[INFO 08-23 10:57:53] ax.service.utils.instantiation: Created search space: SearchSpace(parameters=[RangeParameter(name='SizeOfCell', parameter_type=FLOAT, range=[0.0, 10.0]), RangeParameter(name='Magnesium', parameter_type=FLOAT, range=[0.0, 1.0]), ChoiceParameter(name='LayersOfPaper', parameter_type=INT, values=[1, 2], is_ordered=True, sort_values=True), RangeParameter(name='Chloride', parameter_type=FLOAT, range=[0.0, 10.0])], parameter_constraints=[]).\n",
      "[INFO 08-23 10:57:53] ax.modelbridge.dispatch_utils: Using Models.BOTORCH_MODULAR since there is at least one ordered parameter and there are no unordered categorical parameters.\n",
      "[INFO 08-23 10:57:53] ax.modelbridge.dispatch_utils: Calculating the number of remaining initialization trials based on num_initialization_trials=None max_initialization_trials=None num_tunable_parameters=4 num_trials=None use_batch_trials=False\n",
      "[INFO 08-23 10:57:53] ax.modelbridge.dispatch_utils: calculated num_initialization_trials=8\n",
      "[INFO 08-23 10:57:53] ax.modelbridge.dispatch_utils: num_completed_initialization_trials=0 num_remaining_initialization_trials=8\n",
      "[INFO 08-23 10:57:53] ax.modelbridge.dispatch_utils: `verbose`, `disable_progbar`, and `jit_compile` are not yet supported when using `choose_generation_strategy` with ModularBoTorchModel, dropping these arguments.\n",
      "[INFO 08-23 10:57:53] ax.modelbridge.dispatch_utils: Using Bayesian Optimization generation strategy: GenerationStrategy(name='Sobol+BoTorch', steps=[Sobol for 8 trials, BoTorch for subsequent trials]). Iterations after 8 will take longer to generate due to model-fitting.\n",
      "[INFO 08-23 10:57:53] ax.core.experiment: Attached custom parameterizations [{'SizeOfCell': 3.0, 'Magnesium': 0.4, 'LayersOfPaper': 1, 'Chloride': 3.677}] as trial 0.\n",
      "[INFO 08-23 10:57:53] ax.core.experiment: Attached custom parameterizations [{'SizeOfCell': 0.393, 'Magnesium': 0.25, 'LayersOfPaper': 2, 'Chloride': 2.0}] as trial 1.\n",
      "[INFO 08-23 10:57:53] ax.core.experiment: Attached custom parameterizations [{'SizeOfCell': 1.607, 'Magnesium': 0.281, 'LayersOfPaper': 2, 'Chloride': 8.0}] as trial 2.\n",
      "[INFO 08-23 10:57:53] ax.core.experiment: Attached custom parameterizations [{'SizeOfCell': 3.332, 'Magnesium': 0.926, 'LayersOfPaper': 1, 'Chloride': 9.378}] as trial 3.\n",
      "[INFO 08-23 10:57:53] ax.core.experiment: Attached custom parameterizations [{'SizeOfCell': 2.053, 'Magnesium': 0.018, 'LayersOfPaper': 1, 'Chloride': 8.921}] as trial 4.\n",
      "[INFO 08-23 10:57:53] ax.core.experiment: Attached custom parameterizations [{'SizeOfCell': 9.976, 'Magnesium': 0.895, 'LayersOfPaper': 1, 'Chloride': 4.879}] as trial 5.\n"
     ]
    },
    {
     "name": "stdout",
     "output_type": "stream",
     "text": [
      "Next set of parameters to try:\n",
      "Size of the Cell: 4.358\n",
      "Magnesium Dioxide wt%: 49.7%\n",
      "Graphite wt%: 50.3%\n",
      "Layers of Filter Paper: 2\n",
      "3M Ammonium Chloride (mL): 2.615\n"
     ]
    },
    {
     "name": "stderr",
     "output_type": "stream",
     "text": [
      "/opt/miniconda3/envs/chemcar/lib/python3.11/site-packages/ax/modelbridge/cross_validation.py:462: UserWarning: Encountered exception in computing model fit quality: RandomModelBridge does not support prediction.\n",
      "  warn(\"Encountered exception in computing model fit quality: \" + str(e))\n"
     ]
    }
   ],
   "source": [
    "# Read the CSV file\n",
    "df = pd.read_csv('../Datasets/ObservedData.csv')\n",
    "\n",
    "ax_client = AxClient(verbose_logging=False)\n",
    "\n",
    "# Define the parameters based on your CSV columns\n",
    "parameters = [\n",
    "    {\"name\": \"SizeOfCell\", \"type\": \"range\", \"bounds\": [0.0, 10.0]},\n",
    "    {\"name\": \"Magnesium\", \"type\": \"range\", \"bounds\": [0.0, 1.0]},\n",
    "    {\"name\": \"LayersOfPaper\", \"type\": \"choice\", \"values\": [1, 2]},\n",
    "    {\"name\": \"Chloride\", \"type\": \"range\", \"bounds\": [0.0, 10.0]}\n",
    "]\n",
    "\n",
    "# Create the experiment\n",
    "ax_client.create_experiment(\n",
    "    name=\"battery_optimization\",\n",
    "    parameters=parameters,\n",
    "    objectives={\"y\": ObjectiveProperties(minimize=False)}\n",
    ")\n",
    "\n",
    "# Attach existing trials from the CSV\n",
    "for i, row in df.iterrows():\n",
    "    parameters = {\"SizeOfCell\": row[\"Size of the Cell\"], \"Magnesium\": row[\"Magnesium Dioxide wt%\"], \"LayersOfPaper\": int(row[\"Layers of Filter Paper\"]), \"Chloride\": row[\"3M Ammonium Chloride (mL)\"]}\n",
    "    objective_value = row['Voltage (V)']\n",
    "    ax_client.attach_trial(parameters)\n",
    "    ax_client.complete_trial(trial_index=i, raw_data={\"y\": objective_value})\n",
    "\n",
    "# Get next set of parameters to try\n",
    "parameters, trial_index = ax_client.get_next_trial()\n",
    "\n",
    "# Compute x3 based on the generated x2\n",
    "parameters[\"Graphite\"] = 1 - parameters[\"Magnesium\"]\n",
    "\n",
    "# Print the next set of parameters to try, mulitply the wt% ones by 100 to get the percentage\n",
    "print(\"Next set of parameters to try:\")\n",
    "print(f\"Size of the Cell: {parameters['SizeOfCell']:.3f}\")\n",
    "print(f\"Magnesium Dioxide wt%: {parameters['Magnesium']*100:.1f}%\")\n",
    "print(f\"Graphite wt%: {parameters['Graphite']*100:.1f}%\")\n",
    "print(f\"Layers of Filter Paper: {parameters['LayersOfPaper']}\")\n",
    "print(f\"3M Ammonium Chloride (mL): {parameters['Chloride']:.3f}\")"
   ]
  },
  {
   "cell_type": "markdown",
   "metadata": {},
   "source": [
    "### Log the Data\n",
    "\n",
    "Run the code below to get the input prompt to log the data. This number is the average voltage recorded from the battery using the suggested parameters. "
   ]
  },
  {
   "cell_type": "code",
   "execution_count": 3,
   "metadata": {},
   "outputs": [],
   "source": [
    "# Here you would typically run your experiment with these parameters\n",
    "# and get a result. For this example, let's just use a dummy result\n",
    "result = float(input(\"Input the tested variable\"))  # Replace this with your actual experimental result\n",
    "\n",
    "# Complete the trial with the result\n",
    "ax_client.complete_trial(trial_index=trial_index, raw_data={\"y\": result})"
   ]
  },
  {
   "cell_type": "markdown",
   "metadata": {},
   "source": [
    "### Save the Data\n",
    "\n",
    "Run the cell below to save the new parameters and observed value to the csv file. This will allow the model to incorperate the new data into its future fittings."
   ]
  },
  {
   "cell_type": "code",
   "execution_count": 4,
   "metadata": {},
   "outputs": [],
   "source": [
    "# round parameters to 3 decimal places\n",
    "parameters = {key: round(value, 3) for key, value in parameters.items()}\n",
    "\n",
    "# Prepare the new row as a DataFrame\n",
    "new_row = pd.DataFrame([{\n",
    "    \"Size of the Cell\": parameters['SizeOfCell'],\n",
    "    \"Magnesium Dioxide wt%\": parameters['Magnesium'],\n",
    "    \"Graphite wt%\": parameters['Graphite'],\n",
    "    \"Layers of Filter Paper\": parameters['LayersOfPaper'],\n",
    "    \"3M Ammonium Chloride (mL)\": parameters['Chloride'],\n",
    "    \"Voltage (V)\": result\n",
    "}])\n",
    "\n",
    "# Concatenate the new row to the existing DataFrame\n",
    "df = pd.concat([df, new_row], ignore_index=True)\n",
    "\n",
    "# Save the updated dataframe to a CSV file\n",
    "df.to_csv('../Datasets/ObservedData.csv', index=False)"
   ]
  },
  {
   "cell_type": "markdown",
   "metadata": {},
   "source": [
    "### Print the top parameters found so far"
   ]
  },
  {
   "cell_type": "code",
   "execution_count": 5,
   "metadata": {},
   "outputs": [
    {
     "name": "stdout",
     "output_type": "stream",
     "text": [
      "\n",
      "Best parameters:\n",
      "SizeOfCell: 9.976\n",
      "Magnesium: 0.895\n",
      "LayersOfPaper: 1\n",
      "Chloride: 4.879\n",
      "\n",
      "Best target value:\n",
      "900.0\n"
     ]
    }
   ],
   "source": [
    "# Get the best parameters\n",
    "best_parameters, metrics = ax_client.get_best_parameters()\n",
    "\n",
    "# Print the best parameters to 3 decimal places\n",
    "print(\"\\nBest parameters:\")\n",
    "for key, value in best_parameters.items():\n",
    "    if isinstance(value, float):\n",
    "        print(f\"{key}: {value:.3f}\")\n",
    "    else:\n",
    "        print(f\"{key}: {value}\")\n",
    "\n",
    "print(\"\\nBest target value:\")\n",
    "print(metrics[0]['y'])"
   ]
  }
 ],
 "metadata": {
  "kernelspec": {
   "display_name": "chemcar",
   "language": "python",
   "name": "python3"
  },
  "language_info": {
   "codemirror_mode": {
    "name": "ipython",
    "version": 3
   },
   "file_extension": ".py",
   "mimetype": "text/x-python",
   "name": "python",
   "nbconvert_exporter": "python",
   "pygments_lexer": "ipython3",
   "version": "3.11.9"
  }
 },
 "nbformat": 4,
 "nbformat_minor": 2
}
