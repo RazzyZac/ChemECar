{
 "cells": [
  {
   "cell_type": "markdown",
   "metadata": {},
   "source": [
    "# Bayesian Optimization with Ax"
   ]
  },
  {
   "cell_type": "markdown",
   "metadata": {},
   "source": [
    "### Setup\n",
    "\n",
    "#### Import Libraries\n",
    "\n",
    "This script uses the Ax Bayesian Optimization model to try to find the best parameters for optimizing a battery for the University of Utah Chemical Engineering Car Club. There is a 2D example of this script in the AxDemonstration notebook. "
   ]
  },
  {
   "cell_type": "code",
   "execution_count": 3,
   "metadata": {},
   "outputs": [],
   "source": [
    "from ax.service.ax_client import AxClient\n",
    "import pandas as pd\n",
    "from ax.service.utils.instantiation import ObjectiveProperties\n",
    "from IPython.display import clear_output\n",
    "from time import sleep"
   ]
  },
  {
   "cell_type": "markdown",
   "metadata": {},
   "source": [
    "### Train the Model \n",
    "\n",
    "Using the collected data, train the Ax model and use it to suggest a new set of parameters to test. \n",
    "\n",
    "The output of this code will be a set of the parameters that you need to test next.\n",
    "\n",
    "Run the code below to get a list of parameters to try. "
   ]
  },
  {
   "cell_type": "code",
   "execution_count": 4,
   "metadata": {},
   "outputs": [
    {
     "name": "stderr",
     "output_type": "stream",
     "text": [
      "[INFO 09-06 15:21:16] ax.service.utils.instantiation: Inferred value type of ParameterType.FLOAT for parameter SizeOfCell. If that is not the expected value type, you can explicitly specify 'value_type' ('int', 'float', 'bool' or 'str') in parameter dict.\n",
      "/opt/miniconda3/envs/chemcar/lib/python3.11/site-packages/ax/service/utils/instantiation.py:244: AxParameterWarning: `is_ordered` is not specified for `ChoiceParameter` \"SizeOfCell\". Defaulting to `True`  since the parameter is not of type string.. To override this behavior (or avoid this warning), specify `is_ordered` during `ChoiceParameter` construction. Note that choice parameters with exactly 2 choices are always considered ordered and that the user-supplied `is_ordered` has no effect in this particular case.\n",
      "  return ChoiceParameter(\n",
      "/opt/miniconda3/envs/chemcar/lib/python3.11/site-packages/ax/service/utils/instantiation.py:244: AxParameterWarning: `sort_values` is not specified for `ChoiceParameter` \"SizeOfCell\". Defaulting to `True` for parameters of `ParameterType` FLOAT. To override this behavior (or avoid this warning), specify `sort_values` during `ChoiceParameter` construction.\n",
      "  return ChoiceParameter(\n"
     ]
    },
    {
     "ename": "AssertionError",
     "evalue": "Values in `bounds` not of the same type and no `value_type` was explicitly specified; cannot infer value type for parameter ManganeseGraphiteRatio.",
     "output_type": "error",
     "traceback": [
      "\u001b[0;31m---------------------------------------------------------------------------\u001b[0m",
      "\u001b[0;31mAssertionError\u001b[0m                            Traceback (most recent call last)",
      "Cell \u001b[0;32mIn[4], line 15\u001b[0m\n\u001b[1;32m      7\u001b[0m parameters \u001b[38;5;241m=\u001b[39m [\n\u001b[1;32m      8\u001b[0m     {\u001b[38;5;124m\"\u001b[39m\u001b[38;5;124mname\u001b[39m\u001b[38;5;124m\"\u001b[39m: \u001b[38;5;124m\"\u001b[39m\u001b[38;5;124mSizeOfCell\u001b[39m\u001b[38;5;124m\"\u001b[39m, \u001b[38;5;124m\"\u001b[39m\u001b[38;5;124mtype\u001b[39m\u001b[38;5;124m\"\u001b[39m: \u001b[38;5;124m\"\u001b[39m\u001b[38;5;124mchoice\u001b[39m\u001b[38;5;124m\"\u001b[39m, \u001b[38;5;124m\"\u001b[39m\u001b[38;5;124mvalues\u001b[39m\u001b[38;5;124m\"\u001b[39m: [\u001b[38;5;241m1.53\u001b[39m, \u001b[38;5;241m1.8\u001b[39m, \u001b[38;5;241m2.0\u001b[39m]},\n\u001b[1;32m      9\u001b[0m     {\u001b[38;5;124m\"\u001b[39m\u001b[38;5;124mname\u001b[39m\u001b[38;5;124m\"\u001b[39m: \u001b[38;5;124m\"\u001b[39m\u001b[38;5;124mManganeseGraphiteRatio\u001b[39m\u001b[38;5;124m\"\u001b[39m, \u001b[38;5;124m\"\u001b[39m\u001b[38;5;124mtype\u001b[39m\u001b[38;5;124m\"\u001b[39m: \u001b[38;5;124m\"\u001b[39m\u001b[38;5;124mrange\u001b[39m\u001b[38;5;124m\"\u001b[39m, \u001b[38;5;124m\"\u001b[39m\u001b[38;5;124mbounds\u001b[39m\u001b[38;5;124m\"\u001b[39m: [\u001b[38;5;241m1\u001b[39m, \u001b[38;5;241m3.5\u001b[39m]},\n\u001b[1;32m     10\u001b[0m     {\u001b[38;5;124m\"\u001b[39m\u001b[38;5;124mname\u001b[39m\u001b[38;5;124m\"\u001b[39m: \u001b[38;5;124m\"\u001b[39m\u001b[38;5;124mLayersOfPaper\u001b[39m\u001b[38;5;124m\"\u001b[39m, \u001b[38;5;124m\"\u001b[39m\u001b[38;5;124mtype\u001b[39m\u001b[38;5;124m\"\u001b[39m: \u001b[38;5;124m\"\u001b[39m\u001b[38;5;124mchoice\u001b[39m\u001b[38;5;124m\"\u001b[39m, \u001b[38;5;124m\"\u001b[39m\u001b[38;5;124mvalues\u001b[39m\u001b[38;5;124m\"\u001b[39m: [\u001b[38;5;241m1\u001b[39m, \u001b[38;5;241m2\u001b[39m]},\n\u001b[1;32m     11\u001b[0m     {\u001b[38;5;124m\"\u001b[39m\u001b[38;5;124mname\u001b[39m\u001b[38;5;124m\"\u001b[39m: \u001b[38;5;124m\"\u001b[39m\u001b[38;5;124mChloride\u001b[39m\u001b[38;5;124m\"\u001b[39m, \u001b[38;5;124m\"\u001b[39m\u001b[38;5;124mtype\u001b[39m\u001b[38;5;124m\"\u001b[39m: \u001b[38;5;124m\"\u001b[39m\u001b[38;5;124mrange\u001b[39m\u001b[38;5;124m\"\u001b[39m, \u001b[38;5;124m\"\u001b[39m\u001b[38;5;124mbounds\u001b[39m\u001b[38;5;124m\"\u001b[39m: [\u001b[38;5;241m0.9\u001b[39m, \u001b[38;5;241m1.5\u001b[39m]}\n\u001b[1;32m     12\u001b[0m ]\n\u001b[1;32m     14\u001b[0m \u001b[38;5;66;03m# Create the experiment\u001b[39;00m\n\u001b[0;32m---> 15\u001b[0m ax_client\u001b[38;5;241m.\u001b[39mcreate_experiment(\n\u001b[1;32m     16\u001b[0m     name\u001b[38;5;241m=\u001b[39m\u001b[38;5;124m\"\u001b[39m\u001b[38;5;124mbattery_optimization\u001b[39m\u001b[38;5;124m\"\u001b[39m,\n\u001b[1;32m     17\u001b[0m     parameters\u001b[38;5;241m=\u001b[39mparameters,\n\u001b[1;32m     18\u001b[0m     objectives\u001b[38;5;241m=\u001b[39m{\u001b[38;5;124m\"\u001b[39m\u001b[38;5;124my\u001b[39m\u001b[38;5;124m\"\u001b[39m: ObjectiveProperties(minimize\u001b[38;5;241m=\u001b[39m\u001b[38;5;28;01mFalse\u001b[39;00m)}\n\u001b[1;32m     19\u001b[0m )\n\u001b[1;32m     21\u001b[0m \u001b[38;5;66;03m# Attach existing trials from the CSV\u001b[39;00m\n\u001b[1;32m     22\u001b[0m \u001b[38;5;28;01mfor\u001b[39;00m i, row \u001b[38;5;129;01min\u001b[39;00m df\u001b[38;5;241m.\u001b[39miterrows():\n",
      "File \u001b[0;32m/opt/miniconda3/envs/chemcar/lib/python3.11/site-packages/ax/service/ax_client.py:344\u001b[0m, in \u001b[0;36mAxClient.create_experiment\u001b[0;34m(self, parameters, name, description, owners, objectives, parameter_constraints, outcome_constraints, status_quo, overwrite_existing_experiment, experiment_type, tracking_metric_names, choose_generation_strategy_kwargs, support_intermediate_data, immutable_search_space_and_opt_config, is_test, metric_definitions)\u001b[0m\n\u001b[1;32m    339\u001b[0m     \u001b[38;5;28;01mif\u001b[39;00m \u001b[38;5;28mlen\u001b[39m(objectives\u001b[38;5;241m.\u001b[39mkeys()) \u001b[38;5;241m>\u001b[39m \u001b[38;5;241m1\u001b[39m:\n\u001b[1;32m    340\u001b[0m         objective_kwargs[\u001b[38;5;124m\"\u001b[39m\u001b[38;5;124mobjective_thresholds\u001b[39m\u001b[38;5;124m\"\u001b[39m] \u001b[38;5;241m=\u001b[39m (\n\u001b[1;32m    341\u001b[0m             \u001b[38;5;28mself\u001b[39m\u001b[38;5;241m.\u001b[39mbuild_objective_thresholds(objectives)\n\u001b[1;32m    342\u001b[0m         )\n\u001b[0;32m--> 344\u001b[0m experiment \u001b[38;5;241m=\u001b[39m \u001b[38;5;28mself\u001b[39m\u001b[38;5;241m.\u001b[39mmake_experiment(\n\u001b[1;32m    345\u001b[0m     name\u001b[38;5;241m=\u001b[39mname,\n\u001b[1;32m    346\u001b[0m     description\u001b[38;5;241m=\u001b[39mdescription,\n\u001b[1;32m    347\u001b[0m     owners\u001b[38;5;241m=\u001b[39mowners,\n\u001b[1;32m    348\u001b[0m     parameters\u001b[38;5;241m=\u001b[39mparameters,\n\u001b[1;32m    349\u001b[0m     parameter_constraints\u001b[38;5;241m=\u001b[39mparameter_constraints,\n\u001b[1;32m    350\u001b[0m     outcome_constraints\u001b[38;5;241m=\u001b[39moutcome_constraints,\n\u001b[1;32m    351\u001b[0m     status_quo\u001b[38;5;241m=\u001b[39mstatus_quo,\n\u001b[1;32m    352\u001b[0m     experiment_type\u001b[38;5;241m=\u001b[39mexperiment_type,\n\u001b[1;32m    353\u001b[0m     tracking_metric_names\u001b[38;5;241m=\u001b[39mtracking_metric_names,\n\u001b[1;32m    354\u001b[0m     metric_definitions\u001b[38;5;241m=\u001b[39mmetric_definitions,\n\u001b[1;32m    355\u001b[0m     support_intermediate_data\u001b[38;5;241m=\u001b[39msupport_intermediate_data,\n\u001b[1;32m    356\u001b[0m     immutable_search_space_and_opt_config\u001b[38;5;241m=\u001b[39mimmutable_search_space_and_opt_config,\n\u001b[1;32m    357\u001b[0m     is_test\u001b[38;5;241m=\u001b[39mis_test,\n\u001b[1;32m    358\u001b[0m     \u001b[38;5;241m*\u001b[39m\u001b[38;5;241m*\u001b[39mobjective_kwargs,\n\u001b[1;32m    359\u001b[0m )\n\u001b[1;32m    360\u001b[0m \u001b[38;5;28mself\u001b[39m\u001b[38;5;241m.\u001b[39m_set_runner(experiment\u001b[38;5;241m=\u001b[39mexperiment)\n\u001b[1;32m    361\u001b[0m \u001b[38;5;28mself\u001b[39m\u001b[38;5;241m.\u001b[39m_set_experiment(\n\u001b[1;32m    362\u001b[0m     experiment\u001b[38;5;241m=\u001b[39mexperiment,\n\u001b[1;32m    363\u001b[0m     overwrite_existing_experiment\u001b[38;5;241m=\u001b[39moverwrite_existing_experiment,\n\u001b[1;32m    364\u001b[0m )\n",
      "File \u001b[0;32m/opt/miniconda3/envs/chemcar/lib/python3.11/site-packages/ax/service/utils/instantiation.py:884\u001b[0m, in \u001b[0;36mInstantiationBase.make_experiment\u001b[0;34m(cls, parameters, name, description, owners, parameter_constraints, outcome_constraints, status_quo, experiment_type, tracking_metric_names, metric_definitions, objectives, objective_thresholds, support_intermediate_data, immutable_search_space_and_opt_config, is_test)\u001b[0m\n\u001b[1;32m    878\u001b[0m \u001b[38;5;28;01mif\u001b[39;00m owners \u001b[38;5;129;01mis\u001b[39;00m \u001b[38;5;129;01mnot\u001b[39;00m \u001b[38;5;28;01mNone\u001b[39;00m:\n\u001b[1;32m    879\u001b[0m     properties[\u001b[38;5;124m\"\u001b[39m\u001b[38;5;124mowners\u001b[39m\u001b[38;5;124m\"\u001b[39m] \u001b[38;5;241m=\u001b[39m owners\n\u001b[1;32m    881\u001b[0m \u001b[38;5;28;01mreturn\u001b[39;00m Experiment(\n\u001b[1;32m    882\u001b[0m     name\u001b[38;5;241m=\u001b[39mname,\n\u001b[1;32m    883\u001b[0m     description\u001b[38;5;241m=\u001b[39mdescription,\n\u001b[0;32m--> 884\u001b[0m     search_space\u001b[38;5;241m=\u001b[39m\u001b[38;5;28mcls\u001b[39m\u001b[38;5;241m.\u001b[39mmake_search_space(parameters, parameter_constraints),\n\u001b[1;32m    885\u001b[0m     optimization_config\u001b[38;5;241m=\u001b[39moptimization_config,\n\u001b[1;32m    886\u001b[0m     status_quo\u001b[38;5;241m=\u001b[39mstatus_quo_arm,\n\u001b[1;32m    887\u001b[0m     experiment_type\u001b[38;5;241m=\u001b[39mexperiment_type,\n\u001b[1;32m    888\u001b[0m     tracking_metrics\u001b[38;5;241m=\u001b[39mtracking_metrics,\n\u001b[1;32m    889\u001b[0m     default_data_type\u001b[38;5;241m=\u001b[39mdefault_data_type,\n\u001b[1;32m    890\u001b[0m     properties\u001b[38;5;241m=\u001b[39mproperties,\n\u001b[1;32m    891\u001b[0m     is_test\u001b[38;5;241m=\u001b[39mis_test,\n\u001b[1;32m    892\u001b[0m )\n",
      "File \u001b[0;32m/opt/miniconda3/envs/chemcar/lib/python3.11/site-packages/ax/service/utils/instantiation.py:708\u001b[0m, in \u001b[0;36mInstantiationBase.make_search_space\u001b[0;34m(cls, parameters, parameter_constraints)\u001b[0m\n\u001b[1;32m    699\u001b[0m \u001b[38;5;129m@classmethod\u001b[39m\n\u001b[1;32m    700\u001b[0m \u001b[38;5;28;01mdef\u001b[39;00m \u001b[38;5;21mmake_search_space\u001b[39m(\n\u001b[1;32m    701\u001b[0m     \u001b[38;5;28mcls\u001b[39m,\n\u001b[1;32m    702\u001b[0m     parameters: List[TParameterRepresentation],\n\u001b[1;32m    703\u001b[0m     parameter_constraints: Optional[List[\u001b[38;5;28mstr\u001b[39m]],\n\u001b[1;32m    704\u001b[0m ) \u001b[38;5;241m-\u001b[39m\u001b[38;5;241m>\u001b[39m SearchSpace:\n\u001b[1;32m    705\u001b[0m     parameter_constraints \u001b[38;5;241m=\u001b[39m (\n\u001b[1;32m    706\u001b[0m         parameter_constraints \u001b[38;5;28;01mif\u001b[39;00m parameter_constraints \u001b[38;5;129;01mis\u001b[39;00m \u001b[38;5;129;01mnot\u001b[39;00m \u001b[38;5;28;01mNone\u001b[39;00m \u001b[38;5;28;01melse\u001b[39;00m []\n\u001b[1;32m    707\u001b[0m     )\n\u001b[0;32m--> 708\u001b[0m     typed_parameters \u001b[38;5;241m=\u001b[39m [\u001b[38;5;28mcls\u001b[39m\u001b[38;5;241m.\u001b[39mparameter_from_json(p) \u001b[38;5;28;01mfor\u001b[39;00m p \u001b[38;5;129;01min\u001b[39;00m parameters]\n\u001b[1;32m    709\u001b[0m     is_hss \u001b[38;5;241m=\u001b[39m \u001b[38;5;28many\u001b[39m(p\u001b[38;5;241m.\u001b[39mis_hierarchical \u001b[38;5;28;01mfor\u001b[39;00m p \u001b[38;5;129;01min\u001b[39;00m typed_parameters)\n\u001b[1;32m    710\u001b[0m     search_space_cls \u001b[38;5;241m=\u001b[39m HierarchicalSearchSpace \u001b[38;5;28;01mif\u001b[39;00m is_hss \u001b[38;5;28;01melse\u001b[39;00m SearchSpace\n",
      "File \u001b[0;32m/opt/miniconda3/envs/chemcar/lib/python3.11/site-packages/ax/service/utils/instantiation.py:708\u001b[0m, in \u001b[0;36m<listcomp>\u001b[0;34m(.0)\u001b[0m\n\u001b[1;32m    699\u001b[0m \u001b[38;5;129m@classmethod\u001b[39m\n\u001b[1;32m    700\u001b[0m \u001b[38;5;28;01mdef\u001b[39;00m \u001b[38;5;21mmake_search_space\u001b[39m(\n\u001b[1;32m    701\u001b[0m     \u001b[38;5;28mcls\u001b[39m,\n\u001b[1;32m    702\u001b[0m     parameters: List[TParameterRepresentation],\n\u001b[1;32m    703\u001b[0m     parameter_constraints: Optional[List[\u001b[38;5;28mstr\u001b[39m]],\n\u001b[1;32m    704\u001b[0m ) \u001b[38;5;241m-\u001b[39m\u001b[38;5;241m>\u001b[39m SearchSpace:\n\u001b[1;32m    705\u001b[0m     parameter_constraints \u001b[38;5;241m=\u001b[39m (\n\u001b[1;32m    706\u001b[0m         parameter_constraints \u001b[38;5;28;01mif\u001b[39;00m parameter_constraints \u001b[38;5;129;01mis\u001b[39;00m \u001b[38;5;129;01mnot\u001b[39;00m \u001b[38;5;28;01mNone\u001b[39;00m \u001b[38;5;28;01melse\u001b[39;00m []\n\u001b[1;32m    707\u001b[0m     )\n\u001b[0;32m--> 708\u001b[0m     typed_parameters \u001b[38;5;241m=\u001b[39m [\u001b[38;5;28mcls\u001b[39m\u001b[38;5;241m.\u001b[39mparameter_from_json(p) \u001b[38;5;28;01mfor\u001b[39;00m p \u001b[38;5;129;01min\u001b[39;00m parameters]\n\u001b[1;32m    709\u001b[0m     is_hss \u001b[38;5;241m=\u001b[39m \u001b[38;5;28many\u001b[39m(p\u001b[38;5;241m.\u001b[39mis_hierarchical \u001b[38;5;28;01mfor\u001b[39;00m p \u001b[38;5;129;01min\u001b[39;00m typed_parameters)\n\u001b[1;32m    710\u001b[0m     search_space_cls \u001b[38;5;241m=\u001b[39m HierarchicalSearchSpace \u001b[38;5;28;01mif\u001b[39;00m is_hss \u001b[38;5;28;01melse\u001b[39;00m SearchSpace\n",
      "File \u001b[0;32m/opt/miniconda3/envs/chemcar/lib/python3.11/site-packages/ax/service/utils/instantiation.py:330\u001b[0m, in \u001b[0;36mInstantiationBase.parameter_from_json\u001b[0;34m(cls, representation)\u001b[0m\n\u001b[1;32m    324\u001b[0m     \u001b[38;5;28;01mraise\u001b[39;00m \u001b[38;5;167;01mValueError\u001b[39;00m(\n\u001b[1;32m    325\u001b[0m         \u001b[38;5;124m\"\u001b[39m\u001b[38;5;124mParameter names cannot contain spaces when used with AxClient. Got \u001b[39m\u001b[38;5;124m\"\u001b[39m\n\u001b[1;32m    326\u001b[0m         \u001b[38;5;124mf\u001b[39m\u001b[38;5;124m\"\u001b[39m\u001b[38;5;132;01m{\u001b[39;00mname\u001b[38;5;132;01m!r}\u001b[39;00m\u001b[38;5;124m.\u001b[39m\u001b[38;5;124m\"\u001b[39m\n\u001b[1;32m    327\u001b[0m     )\n\u001b[1;32m    329\u001b[0m \u001b[38;5;28;01mif\u001b[39;00m parameter_class \u001b[38;5;241m==\u001b[39m \u001b[38;5;124m\"\u001b[39m\u001b[38;5;124mrange\u001b[39m\u001b[38;5;124m\"\u001b[39m:\n\u001b[0;32m--> 330\u001b[0m     \u001b[38;5;28;01mreturn\u001b[39;00m \u001b[38;5;28mcls\u001b[39m\u001b[38;5;241m.\u001b[39m_make_range_param(\n\u001b[1;32m    331\u001b[0m         name\u001b[38;5;241m=\u001b[39mname,\n\u001b[1;32m    332\u001b[0m         representation\u001b[38;5;241m=\u001b[39mrepresentation,\n\u001b[1;32m    333\u001b[0m         parameter_type\u001b[38;5;241m=\u001b[39mparameter_type,\n\u001b[1;32m    334\u001b[0m     )\n\u001b[1;32m    336\u001b[0m \u001b[38;5;28;01mif\u001b[39;00m parameter_class \u001b[38;5;241m==\u001b[39m \u001b[38;5;124m\"\u001b[39m\u001b[38;5;124mchoice\u001b[39m\u001b[38;5;124m\"\u001b[39m:\n\u001b[1;32m    337\u001b[0m     \u001b[38;5;28;01massert\u001b[39;00m (\n\u001b[1;32m    338\u001b[0m         \u001b[38;5;124m\"\u001b[39m\u001b[38;5;124mvalues\u001b[39m\u001b[38;5;124m\"\u001b[39m \u001b[38;5;129;01min\u001b[39;00m representation\n\u001b[1;32m    339\u001b[0m     ), \u001b[38;5;124m\"\u001b[39m\u001b[38;5;124mValues are required for choice parameters.\u001b[39m\u001b[38;5;124m\"\u001b[39m\n",
      "File \u001b[0;32m/opt/miniconda3/envs/chemcar/lib/python3.11/site-packages/ax/service/utils/instantiation.py:218\u001b[0m, in \u001b[0;36mInstantiationBase._make_range_param\u001b[0;34m(cls, name, representation, parameter_type)\u001b[0m\n\u001b[1;32m    211\u001b[0m bounds \u001b[38;5;241m=\u001b[39m representation[\u001b[38;5;124m\"\u001b[39m\u001b[38;5;124mbounds\u001b[39m\u001b[38;5;124m\"\u001b[39m]\n\u001b[1;32m    212\u001b[0m \u001b[38;5;28;01massert\u001b[39;00m \u001b[38;5;28misinstance\u001b[39m(bounds, \u001b[38;5;28mlist\u001b[39m) \u001b[38;5;129;01mand\u001b[39;00m \u001b[38;5;28mlen\u001b[39m(bounds) \u001b[38;5;241m==\u001b[39m \u001b[38;5;241m2\u001b[39m, (\n\u001b[1;32m    213\u001b[0m     \u001b[38;5;124mf\u001b[39m\u001b[38;5;124m\"\u001b[39m\u001b[38;5;124mCannot parse parameter \u001b[39m\u001b[38;5;132;01m{\u001b[39;00mname\u001b[38;5;132;01m}\u001b[39;00m\u001b[38;5;124m: for range parameters, json representation \u001b[39m\u001b[38;5;124m\"\u001b[39m\n\u001b[1;32m    214\u001b[0m     \u001b[38;5;124m\"\u001b[39m\u001b[38;5;124mshould include a list of two values, lower and upper bounds of the range.\u001b[39m\u001b[38;5;124m\"\u001b[39m\n\u001b[1;32m    215\u001b[0m )\n\u001b[1;32m    216\u001b[0m \u001b[38;5;28;01mreturn\u001b[39;00m RangeParameter(\n\u001b[1;32m    217\u001b[0m     name\u001b[38;5;241m=\u001b[39mname,\n\u001b[0;32m--> 218\u001b[0m     parameter_type\u001b[38;5;241m=\u001b[39m\u001b[38;5;28mcls\u001b[39m\u001b[38;5;241m.\u001b[39m_to_parameter_type(\n\u001b[1;32m    219\u001b[0m         bounds, parameter_type, name, \u001b[38;5;124m\"\u001b[39m\u001b[38;5;124mbounds\u001b[39m\u001b[38;5;124m\"\u001b[39m\n\u001b[1;32m    220\u001b[0m     ),\n\u001b[1;32m    221\u001b[0m     lower\u001b[38;5;241m=\u001b[39mchecked_cast_to_tuple((\u001b[38;5;28mfloat\u001b[39m, \u001b[38;5;28mint\u001b[39m), bounds[\u001b[38;5;241m0\u001b[39m]),\n\u001b[1;32m    222\u001b[0m     upper\u001b[38;5;241m=\u001b[39mchecked_cast_to_tuple((\u001b[38;5;28mfloat\u001b[39m, \u001b[38;5;28mint\u001b[39m), bounds[\u001b[38;5;241m1\u001b[39m]),\n\u001b[1;32m    223\u001b[0m     log_scale\u001b[38;5;241m=\u001b[39mchecked_cast(\u001b[38;5;28mbool\u001b[39m, representation\u001b[38;5;241m.\u001b[39mget(\u001b[38;5;124m\"\u001b[39m\u001b[38;5;124mlog_scale\u001b[39m\u001b[38;5;124m\"\u001b[39m, \u001b[38;5;28;01mFalse\u001b[39;00m)),\n\u001b[1;32m    224\u001b[0m     digits\u001b[38;5;241m=\u001b[39mrepresentation\u001b[38;5;241m.\u001b[39mget(\u001b[38;5;124m\"\u001b[39m\u001b[38;5;124mdigits\u001b[39m\u001b[38;5;124m\"\u001b[39m, \u001b[38;5;28;01mNone\u001b[39;00m),  \u001b[38;5;66;03m# pyre-ignore[6]\u001b[39;00m\n\u001b[1;32m    225\u001b[0m     is_fidelity\u001b[38;5;241m=\u001b[39mchecked_cast(\u001b[38;5;28mbool\u001b[39m, representation\u001b[38;5;241m.\u001b[39mget(\u001b[38;5;124m\"\u001b[39m\u001b[38;5;124mis_fidelity\u001b[39m\u001b[38;5;124m\"\u001b[39m, \u001b[38;5;28;01mFalse\u001b[39;00m)),\n\u001b[1;32m    226\u001b[0m     \u001b[38;5;66;03m# pyre-ignore[6]: Expected `Union[None, bool, float, int, str]`\u001b[39;00m\n\u001b[1;32m    227\u001b[0m     \u001b[38;5;66;03m#  for 8th param but got `Union[None, List[\u001b[39;00m\n\u001b[1;32m    228\u001b[0m     \u001b[38;5;66;03m#  Union[None, bool, float, int, str]], bool, float, int, str]`.\u001b[39;00m\n\u001b[1;32m    229\u001b[0m     target_value\u001b[38;5;241m=\u001b[39mrepresentation\u001b[38;5;241m.\u001b[39mget(\u001b[38;5;124m\"\u001b[39m\u001b[38;5;124mtarget_value\u001b[39m\u001b[38;5;124m\"\u001b[39m, \u001b[38;5;28;01mNone\u001b[39;00m),\n\u001b[1;32m    230\u001b[0m )\n",
      "File \u001b[0;32m/opt/miniconda3/envs/chemcar/lib/python3.11/site-packages/ax/service/utils/instantiation.py:190\u001b[0m, in \u001b[0;36mInstantiationBase._to_parameter_type\u001b[0;34m(cls, vals, typ, param_name, field_name)\u001b[0m\n\u001b[1;32m    188\u001b[0m typ \u001b[38;5;241m=\u001b[39m \u001b[38;5;28mtype\u001b[39m(not_none(vals[\u001b[38;5;241m0\u001b[39m]))\n\u001b[1;32m    189\u001b[0m parameter_type \u001b[38;5;241m=\u001b[39m \u001b[38;5;28mcls\u001b[39m\u001b[38;5;241m.\u001b[39m_get_parameter_type(typ)  \u001b[38;5;66;03m# pyre-ignore[6]\u001b[39;00m\n\u001b[0;32m--> 190\u001b[0m \u001b[38;5;28;01massert\u001b[39;00m \u001b[38;5;28mall\u001b[39m(\u001b[38;5;28misinstance\u001b[39m(x, typ) \u001b[38;5;28;01mfor\u001b[39;00m x \u001b[38;5;129;01min\u001b[39;00m vals), (\n\u001b[1;32m    191\u001b[0m     \u001b[38;5;124mf\u001b[39m\u001b[38;5;124m\"\u001b[39m\u001b[38;5;124mValues in `\u001b[39m\u001b[38;5;132;01m{\u001b[39;00mfield_name\u001b[38;5;132;01m}\u001b[39;00m\u001b[38;5;124m` not of the same type and no \u001b[39m\u001b[38;5;124m\"\u001b[39m\n\u001b[1;32m    192\u001b[0m     \u001b[38;5;124m\"\u001b[39m\u001b[38;5;124m`value_type` was explicitly specified; cannot infer \u001b[39m\u001b[38;5;124m\"\u001b[39m\n\u001b[1;32m    193\u001b[0m     \u001b[38;5;124mf\u001b[39m\u001b[38;5;124m\"\u001b[39m\u001b[38;5;124mvalue type for parameter \u001b[39m\u001b[38;5;132;01m{\u001b[39;00mparam_name\u001b[38;5;132;01m}\u001b[39;00m\u001b[38;5;124m.\u001b[39m\u001b[38;5;124m\"\u001b[39m\n\u001b[1;32m    194\u001b[0m )\n\u001b[1;32m    195\u001b[0m logger\u001b[38;5;241m.\u001b[39minfo(\n\u001b[1;32m    196\u001b[0m     \u001b[38;5;124mf\u001b[39m\u001b[38;5;124m\"\u001b[39m\u001b[38;5;124mInferred value type of \u001b[39m\u001b[38;5;132;01m{\u001b[39;00mparameter_type\u001b[38;5;132;01m}\u001b[39;00m\u001b[38;5;124m for parameter \u001b[39m\u001b[38;5;132;01m{\u001b[39;00mparam_name\u001b[38;5;132;01m}\u001b[39;00m\u001b[38;5;124m. \u001b[39m\u001b[38;5;124m\"\u001b[39m\n\u001b[1;32m    197\u001b[0m     \u001b[38;5;124m\"\u001b[39m\u001b[38;5;124mIf that is not the expected value type, you can explicitly specify \u001b[39m\u001b[38;5;124m\"\u001b[39m\n\u001b[1;32m    198\u001b[0m     \u001b[38;5;124m\"\u001b[39m\u001b[38;5;124m'\u001b[39m\u001b[38;5;124mvalue_type\u001b[39m\u001b[38;5;124m'\u001b[39m\u001b[38;5;124m (\u001b[39m\u001b[38;5;124m'\u001b[39m\u001b[38;5;124mint\u001b[39m\u001b[38;5;124m'\u001b[39m\u001b[38;5;124m, \u001b[39m\u001b[38;5;124m'\u001b[39m\u001b[38;5;124mfloat\u001b[39m\u001b[38;5;124m'\u001b[39m\u001b[38;5;124m, \u001b[39m\u001b[38;5;124m'\u001b[39m\u001b[38;5;124mbool\u001b[39m\u001b[38;5;124m'\u001b[39m\u001b[38;5;124m or \u001b[39m\u001b[38;5;124m'\u001b[39m\u001b[38;5;124mstr\u001b[39m\u001b[38;5;124m'\u001b[39m\u001b[38;5;124m) in parameter dict.\u001b[39m\u001b[38;5;124m\"\u001b[39m\n\u001b[1;32m    199\u001b[0m )\n\u001b[1;32m    200\u001b[0m \u001b[38;5;28;01mreturn\u001b[39;00m parameter_type\n",
      "\u001b[0;31mAssertionError\u001b[0m: Values in `bounds` not of the same type and no `value_type` was explicitly specified; cannot infer value type for parameter ManganeseGraphiteRatio."
     ]
    }
   ],
   "source": [
    "# Read the CSV file\n",
    "df = pd.read_csv('../Datasets/ObservedData.csv')\n",
    "\n",
    "ax_client = AxClient(verbose_logging=False)\n",
    "\n",
    "# Define the parameters based on your CSV columns\n",
    "parameters = [\n",
    "    {\"name\": \"SizeOfCell\", \"type\": \"choice\", \"values\": [1.53, 1.8, 2.0]},\n",
    "    {\"name\": \"ManganeseGraphiteRatio\", \"type\": \"range\", \"bounds\": [1, 3.5]},\n",
    "    {\"name\": \"LayersOfPaper\", \"type\": \"choice\", \"values\": [1, 2]},\n",
    "    {\"name\": \"Chloride\", \"type\": \"range\", \"bounds\": [0.9, 1.5]}\n",
    "]\n",
    "\n",
    "# Create the experiment\n",
    "ax_client.create_experiment(\n",
    "    name=\"battery_optimization\",\n",
    "    parameters=parameters,\n",
    "    objectives={\"y\": ObjectiveProperties(minimize=False)}\n",
    ")\n",
    "\n",
    "# Attach existing trials from the CSV\n",
    "for i, row in df.iterrows():\n",
    "    parameters = {\"SizeOfCell\": row[\"Size of the Cell\"], \"ManganeseGraphiteRatio\": row[\"Manganese to Graphite Ratio\"], \"LayersOfPaper\": int(row[\"Layers of Filter Paper\"]), \"Chloride\": row[\"3M Ammonium Chloride Saturation (mL)\"]}\n",
    "    objective_value = row['Power (W)']\n",
    "    ax_client.attach_trial(parameters)\n",
    "    ax_client.complete_trial(trial_index=i, raw_data={\"y\": objective_value})\n",
    "\n",
    "# Get next set of parameters to try\n",
    "parameters, trial_index = ax_client.get_next_trial()\n",
    "\n",
    "# Compute x3 based on the generated x2\n",
    "parameters[\"Graphite\"] = 1 - parameters[\"Manganese\"]\n",
    "\n",
    "# Assume the total weight is 15 grams\n",
    "total_weight = 15.0  # in grams\n",
    "\n",
    "# weight percent of manganese dioxide\n",
    "manganese_weight_percent = (parameters[\"ManganeseGraphiteRatio\"])/(parameters[\"ManganeseGraphiteRatio\"] + 1)\n",
    "graphite_weight_percent = 1 - manganese_weight_percent\n",
    "manganese_weight = total_weight * manganese_weight_percent\n",
    "graphite_weight = total_weight * graphite_weight_percent\n",
    "\n",
    "# Constants\n",
    "molarity = 3.0  # Molarity in moles per liter\n",
    "molar_mass_ammonium_chloride = 53.49  # Molar mass of NH4Cl in g/mol\n",
    "\n",
    "# Given volume of the solution in milliliters, convert to liters\n",
    "volume_liters = parameters[\"Chloride\"] / 1000  # Convert mL to L\n",
    "\n",
    "# Calculate moles of ammonium chloride needed\n",
    "moles_ammonium_chloride = molarity * volume_liters\n",
    "\n",
    "# Convert moles to grams\n",
    "grams_ammonium_chloride = (total_weight/1000) * 3 * molar_mass_ammonium_chloride\n",
    "\n",
    "clear_output()\n",
    "sleep(0.2)\n",
    "\n",
    "# Print the next set of parameters to try, including weights in grams\n",
    "print(\"Next set of parameters to try:\")\n",
    "print(f\"Size of the Cell: {parameters['SizeOfCell']:.3f} cm diameter\")\n",
    "print(f\"Manganese Dioxide: {manganese_weight:.2f} g ({parameters['Manganese']*100:.1f}%)\")\n",
    "print(f\"Graphite: {graphite_weight:.2f} g ({parameters['Graphite']*100:.1f}%)\")\n",
    "print(f\"Ratio of Manganese Dioxide to Graphite: {parameters['ManganeseGraphiteRatio']:.2f}:1\")\n",
    "print(f\"Layers of Filter Paper: {parameters['LayersOfPaper']} layers\")\n",
    "print(f\"Water: {parameters['Chloride']*15:.3f} ml ({parameters['Chloride']:.2f}% Saturation)\")\n",
    "print(f\"Dry Ammonium Chloride required: {(parameters['Chloride']*grams_ammonium_chloride):.2f} g\")"
   ]
  },
  {
   "cell_type": "markdown",
   "metadata": {},
   "source": [
    "### Log the Data\n",
    "\n",
    "Run the code below to get the input prompt to log the data. This number is the average voltage recorded from the battery using the suggested parameters. "
   ]
  },
  {
   "cell_type": "code",
   "execution_count": null,
   "metadata": {},
   "outputs": [],
   "source": [
    "# Here you would typically run your experiment with these parameters\n",
    "# and get a result. For this example, let's just use a dummy result\n",
    "result = float(input(\"Input the tested variable\"))  # Replace this with your actual experimental result\n",
    "\n",
    "# Complete the trial with the result\n",
    "ax_client.complete_trial(trial_index=trial_index, raw_data={\"y\": result})"
   ]
  },
  {
   "cell_type": "markdown",
   "metadata": {},
   "source": [
    "### Save the Data\n",
    "\n",
    "Run the cell below to save the new parameters and observed value to the csv file. This will allow the model to incorperate the new data into its future fittings."
   ]
  },
  {
   "cell_type": "code",
   "execution_count": null,
   "metadata": {},
   "outputs": [],
   "source": [
    "\n",
    "# round parameters to 3 decimal places\n",
    "parameters = {key: round(value, 3) for key, value in parameters.items()}\n",
    "\n",
    "# Prepare the new row as a DataFrame\n",
    "new_row = pd.DataFrame([{\n",
    "    \"Size of the Cell\": parameters['SizeOfCell'],\n",
    "    \"Manganese to Graphite Ratio\": parameters['ManganeseGraphiteRatio'],\n",
    "    \"Layers of Filter Paper\": parameters['LayersOfPaper'],\n",
    "    \"3M Ammonium Chloride Saturation (mL)\": parameters['Chloride'],\n",
    "    \"Power (W)\": result\n",
    "}])\n",
    "\n",
    "# Concatenate the new row to the existing DataFrame\n",
    "df = pd.concat([df, new_row], ignore_index=True)\n",
    "\n",
    "# Save the updated dataframe to a CSV file\n",
    "df.to_csv('../Datasets/ObservedData.csv', index=False)"
   ]
  },
  {
   "cell_type": "markdown",
   "metadata": {},
   "source": [
    "### Print the top parameters found so far"
   ]
  },
  {
   "cell_type": "code",
   "execution_count": null,
   "metadata": {},
   "outputs": [
    {
     "name": "stdout",
     "output_type": "stream",
     "text": [
      "\n",
      "Best parameters:\n",
      "SizeOfCell: 1.530\n",
      "Manganese: 0.542\n",
      "LayersOfPaper: 1\n",
      "Chloride: 1.425\n",
      "\n",
      "Best target value:\n",
      "110.0\n"
     ]
    }
   ],
   "source": [
    "# Get the best parameters\n",
    "best_parameters, metrics = ax_client.get_best_parameters()\n",
    "\n",
    "# Print the best parameters to 3 decimal places\n",
    "print(\"\\nBest parameters:\")\n",
    "for key, value in best_parameters.items():\n",
    "    if isinstance(value, float):\n",
    "        print(f\"{key}: {value:.3f}\")\n",
    "    else:\n",
    "        print(f\"{key}: {value}\")\n",
    "\n",
    "print(\"\\nBest target value:\")\n",
    "print(metrics[0]['y'])"
   ]
  }
 ],
 "metadata": {
  "kernelspec": {
   "display_name": "chemcar",
   "language": "python",
   "name": "python3"
  },
  "language_info": {
   "codemirror_mode": {
    "name": "ipython",
    "version": 3
   },
   "file_extension": ".py",
   "mimetype": "text/x-python",
   "name": "python",
   "nbconvert_exporter": "python",
   "pygments_lexer": "ipython3",
   "version": "3.11.9"
  }
 },
 "nbformat": 4,
 "nbformat_minor": 2
}
