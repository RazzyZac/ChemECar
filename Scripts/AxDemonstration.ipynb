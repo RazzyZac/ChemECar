{
 "cells": [
  {
   "cell_type": "code",
   "execution_count": 1,
   "metadata": {},
   "outputs": [
    {
     "name": "stdout",
     "output_type": "stream",
     "text": [
      "Best parameters:\n",
      "x: 0.7419642712920904\n",
      "\n",
      "Best target value:\n",
      "0.8184256335522001\n"
     ]
    },
    {
     "data": {
      "image/png": "[encoded data removed]",
      "text/plain": [
       "<Figure size 640x480 with 1 Axes>"
      ]
     },
     "metadata": {},
     "output_type": "display_data"
    }
   ],
   "source": [
    "import numpy as np\n",
    "import matplotlib.pyplot as plt\n",
    "import pandas as pd\n",
    "from ax.service.ax_client import AxClient\n",
    "from ax.service.utils.instantiation import ObjectiveProperties\n",
    "from IPython.display import clear_output\n",
    "\n",
    "np.random.seed(0)\n",
    "\n",
    "# Step 1: Generate synthetic dataset of a sine wave with noise\n",
    "np.random.seed(0)\n",
    "n = 150\n",
    "x = np.linspace(0, 10, n)\n",
    "y = np.sin(x) + np.random.normal(0, 0.1, n)\n",
    "data = pd.DataFrame({'x': x, 'y': y})\n",
    "\n",
    "# Step 2: Index out the bottom 10 points to train off of \n",
    "df = data.nsmallest(50, 'y')\n",
    "initial = df\n",
    "df.to_csv('../Datasets/synthetic_data_sampled.csv', index=False)\n",
    "\n",
    "# Step 3: Setup the Ax optimization client\n",
    "ax_client = AxClient()\n",
    "\n",
    "# Define the parameters based on your synthetic data\n",
    "parameters = [\n",
    "    {\"name\": \"x\", \"type\": \"range\", \"bounds\": [0.0, 10.0]}\n",
    "]\n",
    "\n",
    "# Create the experiment\n",
    "ax_client.create_experiment(\n",
    "    name=\"synthetic_experiment\",\n",
    "    parameters=parameters,\n",
    "    objectives={\"y\": ObjectiveProperties(minimize=False)},\n",
    ")\n",
    "\n",
    "# Attach existing trials from the bottom 10 points\n",
    "index = 0\n",
    "for i, row in df.iterrows():\n",
    "    parameters = {\"x\": row[\"x\"]}\n",
    "    objective_value = row['y']\n",
    "    ax_client.attach_trial(parameters)\n",
    "    ax_client.complete_trial(trial_index=index, raw_data={\"y\": objective_value})\n",
    "    index += 1\n",
    "\n",
    "for j in range(5):\n",
    "    df = pd.read_csv('../Datasets/synthetic_data_sampled.csv')\n",
    "\n",
    "    # Get next set of parameters to try\n",
    "    parameters, trial_index = ax_client.get_next_trial()\n",
    "\n",
    "    # Print the parameters\n",
    "    print(\"Next parameters to try:\")\n",
    "    for key, value in parameters.items():\n",
    "        print(f\"{key}: {value}\")\n",
    "\n",
    "    # Here you would typically run your experiment with these parameters\n",
    "    # and get a result. For this example, let's just use a dummy result\n",
    "    # set the result as the y value that best matches the x value suggested using euclidian distance \n",
    "    result = data.loc[(data['x'] - parameters['x']).abs().argsort()[:1]]['y'].values[0]\n",
    "\n",
    "    # Complete the trial with the result\n",
    "    ax_client.complete_trial(trial_index=trial_index, raw_data={\"y\": result})\n",
    "\n",
    "    # Append the new trial to the dataframe\n",
    "    new_row = pd.DataFrame(parameters, index=[trial_index])\n",
    "    new_row['y'] = result\n",
    "    df = pd.concat([df, new_row], ignore_index=True)\n",
    "\n",
    "    df.describe()\n",
    "\n",
    "    # Save the updated dataframe to a CSV file\n",
    "    df.to_csv('../Datasets/synthetic_data_sampled.csv', index=False)\n",
    "\n",
    "# Get the best parameters\n",
    "best_parameters, metrics = ax_client.get_best_parameters()\n",
    "\n",
    "clear_output(wait=True)\n",
    "\n",
    "# Print the best parameters\n",
    "print(\"Best parameters:\")\n",
    "for key, value in best_parameters.items():\n",
    "    print(f\"{key}: {value}\")\n",
    "\n",
    "print(\"\\nBest target value:\")\n",
    "print(metrics[0]['y'])\n",
    "\n",
    "plt.scatter(x, y, color='blue')\n",
    "plt.scatter(df['x'], df['y'], color='red')\n",
    "plt.scatter(initial ['x'], initial['y'], color='green')\n",
    "plt.show()"
   ]
  }
 ],
 "metadata": {
  "kernelspec": {
   "display_name": "chemcar",
   "language": "python",
   "name": "python3"
  },
  "language_info": {
   "codemirror_mode": {
    "name": "ipython",
    "version": 3
   },
   "file_extension": ".py",
   "mimetype": "text/x-python",
   "name": "python",
   "nbconvert_exporter": "python",
   "pygments_lexer": "ipython3",
   "version": "3.11.9"
  }
 },
 "nbformat": 4,
 "nbformat_minor": 2
}
